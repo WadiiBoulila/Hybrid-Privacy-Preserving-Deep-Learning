{
  "cells": [
    {
      "cell_type": "markdown",
      "source": [
        "# Training on plain or encrypted images"
      ],
      "metadata": {
        "id": "KtFGD2QKu9lP"
      }
    },
    {
      "cell_type": "markdown",
      "source": [
        "## 1. Downloading the plain sample dataset"
      ],
      "metadata": {
        "id": "JfF5vNwYvHhV"
      }
    },
    {
      "cell_type": "code",
      "source": [
        "\n",
        "from google.colab import drive\n",
        "drive.mount('/content/drive')"
      ],
      "metadata": {
        "colab": {
          "base_uri": "https://localhost:8080/"
        },
        "id": "iTuIkEA5HZsA",
        "outputId": "c6b368ec-ac05-4944-9e1c-63d1a7c3a37d"
      },
      "execution_count": null,
      "outputs": [
        {
          "output_type": "stream",
          "name": "stdout",
          "text": [
            "Mounted at /content/drive\n"
          ]
        }
      ]
    },
    {
      "cell_type": "code",
      "source": [
        "!gdown https://drive.google.com/uc?id=1iq9NkenkTgpYNLYYb0fXe1aQpDZ_iFt6\n"
      ],
      "metadata": {
        "colab": {
          "base_uri": "https://localhost:8080/"
        },
        "id": "y3T0x4jpvQty",
        "outputId": "2dd762f5-8e28-4da3-ffe2-bc2e1ae84b62"
      },
      "execution_count": null,
      "outputs": [
        {
          "output_type": "stream",
          "name": "stdout",
          "text": [
            "Downloading...\n",
            "From: https://drive.google.com/uc?id=1iq9NkenkTgpYNLYYb0fXe1aQpDZ_iFt6\n",
            "To: /content/Plain-4-classes-sample20.zip\n",
            "\r  0% 0.00/2.96M [00:00<?, ?B/s]\r100% 2.96M/2.96M [00:00<00:00, 198MB/s]\n"
          ]
        }
      ]
    },
    {
      "cell_type": "code",
      "source": [
        "!mkdir -p '/content/drive/My Drive/COVID-sample-dataset'"
      ],
      "metadata": {
        "id": "mNBawDvoH1ge"
      },
      "execution_count": null,
      "outputs": []
    },
    {
      "cell_type": "code",
      "source": [
        "!unzip /content/Plain-4-classes-sample20.zip -d '/content/drive/My Drive/COVID-sample-dataset'"
      ],
      "metadata": {
        "id": "Qthw0gp6waq-"
      },
      "execution_count": null,
      "outputs": []
    },
    {
      "cell_type": "markdown",
      "source": [
        "### Paths of the plain and encrypted dataset (to be generated)"
      ],
      "metadata": {
        "id": "lilWfLSjzKzs"
      }
    },
    {
      "cell_type": "code",
      "source": [
        "path_in = '/content/drive/My Drive/COVID-sample-dataset/Plain-4-classes-sample20/' # path of the plain dataset containing 1 subfolder for each class\n",
        "path_out = '/content/drive/My Drive/COVID-sample-dataset/Encrypted-4-classes-sample20' # folder path for the encrypted dataset to be generated"
      ],
      "metadata": {
        "id": "7hEcr4vmzT0o"
      },
      "execution_count": null,
      "outputs": []
    },
    {
      "cell_type": "markdown",
      "source": [
        "The encryption of the dataset takes time (about 30s per image). If you want to skip this step, you can download the already encrypted dataset below, then move on to step 3 (Training on plain images):"
      ],
      "metadata": {
        "id": "s7toBTkJKEAR"
      }
    },
    {
      "cell_type": "code",
      "source": [
        "!gdown https://drive.google.com/uc?id=1GG_VASj76TbUddzT1qqRX9OKIL4BrF5D\n",
        "!unzip /content/Encrypted-4-classes-sample20.zip -d '/content/drive/My Drive/COVID-sample-dataset'"
      ],
      "metadata": {
        "id": "cGAbfK3JLaPe",
        "colab": {
          "base_uri": "https://localhost:8080/"
        },
        "outputId": "b996d3d6-bed0-4f61-cab7-81ba7005a8ed"
      },
      "execution_count": null,
      "outputs": [
        {
          "output_type": "stream",
          "name": "stdout",
          "text": [
            "Downloading...\n",
            "From: https://drive.google.com/uc?id=1GG_VASj76TbUddzT1qqRX9OKIL4BrF5D\n",
            "To: /content/Encrypted-4-classes-sample20.zip\n",
            "100% 7.12M/7.12M [00:00<00:00, 40.9MB/s]\n",
            "Archive:  /content/Encrypted-4-classes-sample20.zip\n",
            "replace /content/drive/My Drive/COVID-sample-dataset/Encrypted-4-classes-sample20/Lung_Opacity/Lung_Opacity-8.png? [y]es, [n]o, [A]ll, [N]one, [r]ename: A\n",
            "  inflating: /content/drive/My Drive/COVID-sample-dataset/Encrypted-4-classes-sample20/Lung_Opacity/Lung_Opacity-8.png  \n",
            "  inflating: /content/drive/My Drive/COVID-sample-dataset/Encrypted-4-classes-sample20/Lung_Opacity/Lung_Opacity-2.png  \n",
            "  inflating: /content/drive/My Drive/COVID-sample-dataset/Encrypted-4-classes-sample20/Lung_Opacity/Lung_Opacity-19.png  \n",
            "  inflating: /content/drive/My Drive/COVID-sample-dataset/Encrypted-4-classes-sample20/Lung_Opacity/Lung_Opacity-16.png  \n",
            "  inflating: /content/drive/My Drive/COVID-sample-dataset/Encrypted-4-classes-sample20/Lung_Opacity/Lung_Opacity-9.png  \n",
            "  inflating: /content/drive/My Drive/COVID-sample-dataset/Encrypted-4-classes-sample20/Lung_Opacity/Lung_Opacity-14.png  \n",
            "  inflating: /content/drive/My Drive/COVID-sample-dataset/Encrypted-4-classes-sample20/Lung_Opacity/Lung_Opacity-15.png  \n",
            "  inflating: /content/drive/My Drive/COVID-sample-dataset/Encrypted-4-classes-sample20/Lung_Opacity/Lung_Opacity-10.png  \n",
            "  inflating: /content/drive/My Drive/COVID-sample-dataset/Encrypted-4-classes-sample20/Lung_Opacity/Lung_Opacity-3.png  \n",
            "  inflating: /content/drive/My Drive/COVID-sample-dataset/Encrypted-4-classes-sample20/Lung_Opacity/Lung_Opacity-6.png  \n",
            "  inflating: /content/drive/My Drive/COVID-sample-dataset/Encrypted-4-classes-sample20/Lung_Opacity/Lung_Opacity-5.png  \n",
            "  inflating: /content/drive/My Drive/COVID-sample-dataset/Encrypted-4-classes-sample20/Lung_Opacity/Lung_Opacity-13.png  \n",
            "  inflating: /content/drive/My Drive/COVID-sample-dataset/Encrypted-4-classes-sample20/Lung_Opacity/Lung_Opacity-20.png  \n",
            "  inflating: /content/drive/My Drive/COVID-sample-dataset/Encrypted-4-classes-sample20/Lung_Opacity/Lung_Opacity-18.png  \n",
            "  inflating: /content/drive/My Drive/COVID-sample-dataset/Encrypted-4-classes-sample20/Lung_Opacity/Lung_Opacity-17.png  \n",
            "  inflating: /content/drive/My Drive/COVID-sample-dataset/Encrypted-4-classes-sample20/Lung_Opacity/Lung_Opacity-7.png  \n",
            "  inflating: /content/drive/My Drive/COVID-sample-dataset/Encrypted-4-classes-sample20/Lung_Opacity/Lung_Opacity-12.png  \n",
            "  inflating: /content/drive/My Drive/COVID-sample-dataset/Encrypted-4-classes-sample20/Lung_Opacity/Lung_Opacity-4.png  \n",
            "  inflating: /content/drive/My Drive/COVID-sample-dataset/Encrypted-4-classes-sample20/Lung_Opacity/Lung_Opacity-11.png  \n",
            "  inflating: /content/drive/My Drive/COVID-sample-dataset/Encrypted-4-classes-sample20/Lung_Opacity/Lung_Opacity-1.png  \n",
            "  inflating: /content/drive/My Drive/COVID-sample-dataset/Encrypted-4-classes-sample20/Normal/Normal-16.png  \n",
            "  inflating: /content/drive/My Drive/COVID-sample-dataset/Encrypted-4-classes-sample20/Normal/Normal-5.png  \n",
            "  inflating: /content/drive/My Drive/COVID-sample-dataset/Encrypted-4-classes-sample20/Normal/Normal-13.png  \n",
            "  inflating: /content/drive/My Drive/COVID-sample-dataset/Encrypted-4-classes-sample20/Normal/Normal-9.png  \n",
            "  inflating: /content/drive/My Drive/COVID-sample-dataset/Encrypted-4-classes-sample20/Normal/Normal-19.png  \n",
            "  inflating: /content/drive/My Drive/COVID-sample-dataset/Encrypted-4-classes-sample20/Normal/Normal-17.png  \n",
            "  inflating: /content/drive/My Drive/COVID-sample-dataset/Encrypted-4-classes-sample20/Normal/Normal-1.png  \n",
            "  inflating: /content/drive/My Drive/COVID-sample-dataset/Encrypted-4-classes-sample20/Normal/Normal-6.png  \n",
            "  inflating: /content/drive/My Drive/COVID-sample-dataset/Encrypted-4-classes-sample20/Normal/Normal-18.png  \n",
            "  inflating: /content/drive/My Drive/COVID-sample-dataset/Encrypted-4-classes-sample20/Normal/Normal-11.png  \n",
            "  inflating: /content/drive/My Drive/COVID-sample-dataset/Encrypted-4-classes-sample20/Normal/Normal-8.png  \n",
            "  inflating: /content/drive/My Drive/COVID-sample-dataset/Encrypted-4-classes-sample20/Normal/Normal-14.png  \n",
            "  inflating: /content/drive/My Drive/COVID-sample-dataset/Encrypted-4-classes-sample20/Normal/Normal-10.png  \n",
            "  inflating: /content/drive/My Drive/COVID-sample-dataset/Encrypted-4-classes-sample20/Normal/Normal-3.png  \n",
            "  inflating: /content/drive/My Drive/COVID-sample-dataset/Encrypted-4-classes-sample20/Normal/Normal-2.png  \n",
            "  inflating: /content/drive/My Drive/COVID-sample-dataset/Encrypted-4-classes-sample20/Normal/Normal-15.png  \n",
            "  inflating: /content/drive/My Drive/COVID-sample-dataset/Encrypted-4-classes-sample20/Normal/Normal-20.png  \n",
            "  inflating: /content/drive/My Drive/COVID-sample-dataset/Encrypted-4-classes-sample20/Normal/Normal-7.png  \n",
            "  inflating: /content/drive/My Drive/COVID-sample-dataset/Encrypted-4-classes-sample20/Normal/Normal-12.png  \n",
            "  inflating: /content/drive/My Drive/COVID-sample-dataset/Encrypted-4-classes-sample20/Covid/COVID-3.png  \n",
            "  inflating: /content/drive/My Drive/COVID-sample-dataset/Encrypted-4-classes-sample20/Covid/COVID-11.png  \n",
            "  inflating: /content/drive/My Drive/COVID-sample-dataset/Encrypted-4-classes-sample20/Covid/COVID-7.png  \n",
            "  inflating: /content/drive/My Drive/COVID-sample-dataset/Encrypted-4-classes-sample20/Covid/COVID-15.png  \n",
            "  inflating: /content/drive/My Drive/COVID-sample-dataset/Encrypted-4-classes-sample20/Covid/COVID-20.png  \n",
            "  inflating: /content/drive/My Drive/COVID-sample-dataset/Encrypted-4-classes-sample20/Covid/COVID-19.png  \n",
            "  inflating: /content/drive/My Drive/COVID-sample-dataset/Encrypted-4-classes-sample20/Covid/COVID-13.png  \n",
            "  inflating: /content/drive/My Drive/COVID-sample-dataset/Encrypted-4-classes-sample20/Covid/COVID-8.png  \n",
            "  inflating: /content/drive/My Drive/COVID-sample-dataset/Encrypted-4-classes-sample20/Covid/COVID-2.png  \n",
            "  inflating: /content/drive/My Drive/COVID-sample-dataset/Encrypted-4-classes-sample20/Covid/COVID-5.png  \n",
            "  inflating: /content/drive/My Drive/COVID-sample-dataset/Encrypted-4-classes-sample20/Covid/COVID-17.png  \n",
            "  inflating: /content/drive/My Drive/COVID-sample-dataset/Encrypted-4-classes-sample20/Covid/COVID-18.png  \n",
            "  inflating: /content/drive/My Drive/COVID-sample-dataset/Encrypted-4-classes-sample20/Covid/COVID-9.png  \n",
            "  inflating: /content/drive/My Drive/COVID-sample-dataset/Encrypted-4-classes-sample20/Covid/COVID-6.png  \n",
            "  inflating: /content/drive/My Drive/COVID-sample-dataset/Encrypted-4-classes-sample20/Covid/COVID-1.png  \n",
            "  inflating: /content/drive/My Drive/COVID-sample-dataset/Encrypted-4-classes-sample20/Covid/COVID-14.png  \n",
            "  inflating: /content/drive/My Drive/COVID-sample-dataset/Encrypted-4-classes-sample20/Covid/COVID-4.png  \n",
            "  inflating: /content/drive/My Drive/COVID-sample-dataset/Encrypted-4-classes-sample20/Covid/COVID-10.png  \n",
            "  inflating: /content/drive/My Drive/COVID-sample-dataset/Encrypted-4-classes-sample20/Covid/COVID-16.png  \n",
            "  inflating: /content/drive/My Drive/COVID-sample-dataset/Encrypted-4-classes-sample20/Covid/COVID-12.png  \n",
            "  inflating: /content/drive/My Drive/COVID-sample-dataset/Encrypted-4-classes-sample20/Viral_Pneumonia/Viral Pneumonia-14.png  \n",
            "  inflating: /content/drive/My Drive/COVID-sample-dataset/Encrypted-4-classes-sample20/Viral_Pneumonia/Viral Pneumonia-10.png  \n",
            "  inflating: /content/drive/My Drive/COVID-sample-dataset/Encrypted-4-classes-sample20/Viral_Pneumonia/Viral Pneumonia-12.png  \n",
            "  inflating: /content/drive/My Drive/COVID-sample-dataset/Encrypted-4-classes-sample20/Viral_Pneumonia/Viral Pneumonia-16.png  \n",
            "  inflating: /content/drive/My Drive/COVID-sample-dataset/Encrypted-4-classes-sample20/Viral_Pneumonia/Viral Pneumonia-9.png  \n",
            "  inflating: /content/drive/My Drive/COVID-sample-dataset/Encrypted-4-classes-sample20/Viral_Pneumonia/Viral Pneumonia-2.png  \n",
            "  inflating: /content/drive/My Drive/COVID-sample-dataset/Encrypted-4-classes-sample20/Viral_Pneumonia/Viral Pneumonia-8.png  \n",
            "  inflating: /content/drive/My Drive/COVID-sample-dataset/Encrypted-4-classes-sample20/Viral_Pneumonia/Viral Pneumonia-19.png  \n",
            "  inflating: /content/drive/My Drive/COVID-sample-dataset/Encrypted-4-classes-sample20/Viral_Pneumonia/Viral Pneumonia-20.png  \n",
            "  inflating: /content/drive/My Drive/COVID-sample-dataset/Encrypted-4-classes-sample20/Viral_Pneumonia/Viral Pneumonia-4.png  \n",
            "  inflating: /content/drive/My Drive/COVID-sample-dataset/Encrypted-4-classes-sample20/Viral_Pneumonia/Viral Pneumonia-17.png  \n",
            "  inflating: /content/drive/My Drive/COVID-sample-dataset/Encrypted-4-classes-sample20/Viral_Pneumonia/Viral Pneumonia-13.png  \n",
            "  inflating: /content/drive/My Drive/COVID-sample-dataset/Encrypted-4-classes-sample20/Viral_Pneumonia/Viral Pneumonia-3.png  \n",
            "  inflating: /content/drive/My Drive/COVID-sample-dataset/Encrypted-4-classes-sample20/Viral_Pneumonia/Viral Pneumonia-7.png  \n",
            "  inflating: /content/drive/My Drive/COVID-sample-dataset/Encrypted-4-classes-sample20/Viral_Pneumonia/Viral Pneumonia-1.png  \n",
            "  inflating: /content/drive/My Drive/COVID-sample-dataset/Encrypted-4-classes-sample20/Viral_Pneumonia/Viral Pneumonia-18.png  \n",
            "  inflating: /content/drive/My Drive/COVID-sample-dataset/Encrypted-4-classes-sample20/Viral_Pneumonia/Viral Pneumonia-6.png  \n",
            "  inflating: /content/drive/My Drive/COVID-sample-dataset/Encrypted-4-classes-sample20/Viral_Pneumonia/Viral Pneumonia-11.png  \n",
            "  inflating: /content/drive/My Drive/COVID-sample-dataset/Encrypted-4-classes-sample20/Viral_Pneumonia/Viral Pneumonia-15.png  \n",
            "  inflating: /content/drive/My Drive/COVID-sample-dataset/Encrypted-4-classes-sample20/Viral_Pneumonia/Viral Pneumonia-5.png  \n"
          ]
        }
      ]
    },
    {
      "cell_type": "code",
      "source": [
        ""
      ],
      "metadata": {
        "id": "-8d3qjETj5L5"
      },
      "execution_count": null,
      "outputs": []
    },
    {
      "cell_type": "markdown",
      "source": [
        "## 2. Encryption of plain images"
      ],
      "metadata": {
        "id": "Jbb8K0X_vA0g"
      }
    },
    {
      "cell_type": "code",
      "execution_count": null,
      "metadata": {
        "id": "FM_98x1LtVLH"
      },
      "outputs": [],
      "source": [
        "import numpy\n",
        "from PIL import Image \n",
        "import numpy as np\n",
        "from skimage.io import imsave\n",
        "import os\n",
        "import glob"
      ]
    },
    {
      "cell_type": "code",
      "execution_count": null,
      "metadata": {
        "id": "YwwX4Gl2tVLJ"
      },
      "outputs": [],
      "source": [
        "# Properties of Partially Homomorphic Encryption\n",
        "def lcm(a, b):\n",
        "    \"\"\"\n",
        "    lcm(a, b)\n",
        "    returns Lowest Common Multiple of a and b\n",
        "    \"\"\"\n",
        "    return a * b // xgcd(a,b)[0]\n",
        "\n",
        "def xgcd(a, b):\n",
        "    \"\"\"\n",
        "    xgcd (a, b)\n",
        "    returns (g, x, y) according to the Extended Euclidean Algorithm\n",
        "    such that, ax + by = g\n",
        "    \"\"\"\n",
        "    if a == 0:\n",
        "        return (b, 0, 1)\n",
        "    else:\n",
        "        g, y, x = xgcd(b % a, a)\n",
        "        return (g, x - (b // a) * y, y)\n",
        "\n",
        "def multiplicative_inverse(a, modulus):\n",
        "    \"\"\"\n",
        "    multiplicative_inverse(a, modulus)\n",
        "    returns x: multiplicative inverse of a\n",
        "    such that, a * x = 1 (mod modulus)\n",
        "    \"\"\"\n",
        "    g, x, y = xgcd(a, modulus)\n",
        "    if g != 1:\n",
        "        raise Exception('modular inverse does not exist')\n",
        "    else:\n",
        "        return x % modulus\n",
        "\n",
        "\n",
        "def binary_exponent(base, exponent, modulus):\n",
        "    \"\"\"\n",
        "    modular_binary_exponent( base, exponent, modulus)\n",
        "    \n",
        "    args:\n",
        "        base\n",
        "        exponent\n",
        "        modulus\n",
        "    \n",
        "    generates:\n",
        "        base ^ exponent (mod modulus)\n",
        "    \n",
        "        along with intermediate results from binary exponentiation\n",
        "        required for Rabin-Miller primality test\n",
        "    \"\"\"\n",
        "    if modulus == 1:\n",
        "        yield 0\n",
        "        return\n",
        "    bitmask = 1 << exponent.bit_length() - 1\n",
        "    res = 1\n",
        "    while bitmask:\n",
        "        res = (res * res) % modulus\n",
        "        if bitmask & exponent:\n",
        "            res = (res * base) % modulus\n",
        "        yield res\n",
        "        bitmask >>= 1"
      ]
    },
    {
      "cell_type": "code",
      "execution_count": null,
      "metadata": {
        "id": "8P_-tSROtVLJ"
      },
      "outputs": [],
      "source": [
        "# Properties of Partially Homomorphic Encryption\n",
        "import random\n",
        "#import ModularArithmetic as mod\n",
        "\n",
        "def is_probably_prime(n):\n",
        "    \"\"\"\n",
        "    is_probably_prime(n)\n",
        "    args:\n",
        "        n\n",
        "    returns:\n",
        "        Boolean\n",
        "    returns True if n is a probable prime\n",
        "    based on the Rabin-Miller primality test\n",
        "    \"\"\"\n",
        "    tests = max(64, n.bit_length())\n",
        "    for i in range(tests):\n",
        "        rand = random.randint(1,n-1)\n",
        "        return 1 in binary_exponent(rand, n-1, n)\n",
        "\n",
        "def generate_prime(bitlen=128):\n",
        "    \"\"\"\n",
        "    generate_prime(bitlen)\n",
        "    args:\n",
        "        bitlen: length of number to be generated (default: 128)\n",
        "    returns:\n",
        "        a probable prime of bitlen bits\n",
        "        based on the Rabin-Miller primality test\n",
        "    \"\"\"\n",
        "    n = random.getrandbits(bitlen) | 1<<(bitlen-1) | 1\n",
        "    while not is_probably_prime(n):\n",
        "        n = random.getrandbits(bitlen) | 1<<(bitlen-1) | 1\n",
        "    return n"
      ]
    },
    {
      "cell_type": "code",
      "execution_count": null,
      "metadata": {
        "id": "WZU4RFAvtVLK"
      },
      "outputs": [],
      "source": [
        "# Properties of Partially Homomorphic Encryption\n",
        "import random\n",
        "\n",
        "#import ModularArithmetic\n",
        "#import RabinMiller\n",
        "\n",
        "class PrivateKey:\n",
        "    \"\"\"\n",
        "    PrivateKey object contains λ and μ\n",
        "    in accordance to the Paillier Cryptosystem\n",
        "    \n",
        "    args:\n",
        "        p: a prime number\n",
        "        q: another prime number\n",
        "        (p and q are of equal length)\n",
        "        n: product of p and q\n",
        "        \n",
        "    attributes:\n",
        "        λ: lowest common multiple of p-1 and q-1\n",
        "        ∵ p and q are of equal length we can use the simplification,\n",
        "        μ: modular multiplicative inverse of λ and n\n",
        "    \"\"\"\n",
        "    \n",
        "    def __init__(self, p, q, n):\n",
        "\n",
        "        self.λ = lcm( p-1, q-1)\n",
        "        self.μ = multiplicative_inverse( self.λ, n)\n",
        "        \n",
        "    def __repr__(self):\n",
        "        return (\"---\\nPrivate Key :\\nλ:\\t\"+str(self.λ) +\"\\nμ:\\t\"+str(self.μ) +\"\\n---\")\n",
        "\n",
        "\n",
        "class PublicKey:\n",
        "    \"\"\"\n",
        "    Public Key object contains n and g\n",
        "    in accordance to the Paillier Cryptosystem\n",
        "    \n",
        "    args:\n",
        "        n: product of two equal lenght prime numbers\n",
        "    \n",
        "    attributes:\n",
        "        n: product of two primes\n",
        "        g: a random number such that,\n",
        "        multiplicative order of g in n^2 is a multiple of n\n",
        "        \n",
        "        ∵ p and q are of equal length we can use a simplification of g = n+1\n",
        "    \"\"\"\n",
        "    def __init__(self, n):\n",
        "        self.n = n\n",
        "        self.nsq = n * n\n",
        "        self.g = n+1\n",
        "    \n",
        "    def __repr__(self):\n",
        "        return (\"---\\nPublic Key :\\nn:\\t\"+ str(self.n) +\"\\n---\")\n",
        "\n",
        "\n",
        "def generate_keys(bitlen):\n",
        "    \"\"\"\n",
        "    generate_keys( bitlen)\n",
        "    \n",
        "    args:\n",
        "        bitlen: length of primes to be generated (default: 128)\n",
        "    \n",
        "    returns Public Private key pair as a tuple\n",
        "    (PublicKey, PrivateKey)\n",
        "    \"\"\"\n",
        "    \n",
        "    p = generate_prime(bitlen)\n",
        "    q = generate_prime(bitlen)\n",
        "    n = p * q\n",
        "    return (PublicKey(n), PrivateKey(p, q, n))"
      ]
    },
    {
      "cell_type": "code",
      "execution_count": null,
      "metadata": {
        "id": "JNCauI3BtVLL"
      },
      "outputs": [],
      "source": [
        "# Properties of Somewhat Homomorphic Encryption\n",
        "from PIL import Image\n",
        "from PIL import Image\n",
        "import numpy as np\n",
        "# defining the big O constant\n",
        "#bigOconstant = 2\n",
        "#_lambda = 2\n",
        "# Function to calculate eta value from the security parameter lambda\n",
        "def eta(_lambda):\t\t\t# eta is bit length of secret key \n",
        "\treturn (bigOconstant * _lambda * _lambda)\n",
        "# Function to calculate gamma value from the security parameter lambda\n",
        "def gamma(_lambda):\n",
        "\treturn (bigOconstant * _lambda**5)\n",
        "# Function to calculate tau value from the security parameter lambda\n",
        "def tau(_lambda):\t\t\t# tau is number of integers in public key\n",
        "\treturn (gamma(_lambda) + _lambda)\n",
        "# Function to calculate rho' value from security parameter lambda\n",
        "def rho_dash(_lambda):\n",
        "\treturn (2*_lambda)\n",
        "# Function to generate a large value\n",
        "# check_lsb = 1 if the number has to be odd and check msb = 1 to set the initial bit to be 1\n",
        "def number_generator(num_of_bits, check_msb, check_lsb):\n",
        "\tnumber_count = num_of_bits / 32\n",
        "\tnumber_count = int(number_count)\n",
        "\tbase = 2**32\n",
        "\trand_num ={}\n",
        "\tif (number_count == 0):\n",
        "\t\tx = int(numpy.random.uniform(0,2**num_of_bits))\n",
        "\telse :\n",
        "\t\tfor i in range(number_count):\n",
        "\t\t\trand_num[i] = int(numpy.random.uniform(0,2**32))\n",
        "\t\tif (check_lsb == 1):\n",
        "\t\t\trand_num[0] = ((rand_num[0] & ~1 ) + 1)\n",
        "\t\tif (check_msb == 1) :\n",
        "\t\t\trand_num[number_count-1] = ((rand_num[number_count-1] & ~2**31 ) + 2**31)\n",
        "\t\tx=0\n",
        "\t# number = x0*base**0 + x1*base**1 + x2*base**2 + x3*base**3 + ...\n",
        "\t\tfor i in range(number_count):\n",
        "\t\t\tx +=  rand_num[i] * base**i\n",
        "\treturn x\n",
        "\n",
        "# Function to calculate the secret key which is an odd eta-bit integer\n",
        "def secret_key(_lambda):\n",
        "\teta_value = eta(_lambda)\n",
        "\tsecret_key = number_generator(eta_value, 1, 1)\n",
        "\treturn secret_key\t\n",
        "# Function to find the different values of public key\n",
        "def pubkey_distribution(_lambda, secret_key):\n",
        "\t#q_bound = int(math.ceil(math.log((2**gamma(_lambda) / secret_key),2)))\n",
        "\t#q = number_generator(q_bound, 0)\n",
        "\tq = int(numpy.random.uniform(0,2**256))\n",
        "\tr = (1 - 2*(numpy.random.randint(0,2))) * number_generator(_lambda, 0, 0)\n",
        "\tx = secret_key * q + r\n",
        "\treturn x\n",
        "\t\n",
        "# Function to calculate the public key list\n",
        "def public_keyS(_lambda, secret_key):\n",
        "\twhile True:\n",
        "\t\tpubkey = [pubkey_distribution(_lambda, secret_key) for i in range(tau(_lambda))]\n",
        "\t\tpubkey_max = max(pubkey)\t# get largest value from list\t\n",
        "\t\tpubkey_mod_sk = pubkey_max % secret_key\n",
        "\t\t# loop till largest value is odd and the value modulus secret key is even\n",
        "\t\tif (pubkey_max & 1) and (pubkey_mod_sk % 2 == 0):\n",
        "\t\t\tbreak\n",
        "\treturn pubkey\n",
        "\n",
        "# Function to generate a random subset S from {1, 2, 3, .... tau}\n",
        "def generate_random_subset(_tau):\n",
        "\tset_size = numpy.random.randint(1, _tau)\n",
        "\tS = set()\n",
        "\twhile len(S) < set_size:\n",
        "\t\tx = numpy.random.randint(1, _tau)\n",
        "\t\tS.add(x)\n",
        "\treturn S\n",
        "# Properties of Somewhat Homomorphic Encryption\n",
        "# Function to encrypt one value(Hybrid Encryption function combines PHE and SHE)\t\n",
        "def Hybrid_encryption(_lambda, public_keyS, plaintext, public_key):\n",
        "    \"\"\"\n",
        "\t\tHybrid_encryption(_lambda, public_keyS, plaintext, public_key)\n",
        "\t\t\targs:\n",
        "\t\t\t\t_lambda : SHE security parameter lambda\n",
        "\t\t\t\tpublic_keyS: SHE public_keyS function \n",
        "\t\t\t\tplaintext : number to be encrypted\n",
        "\t\t\t\tpublic_key : Paillier Publickey object\n",
        "\t\t\treturns:\n",
        "\t\t\t\tc: encryption of plaintext\n",
        "\t\t\t\tsuch that c = (plaintext + 2*r + 2*sum_x) (mod n ^ 2)\n",
        "\t\t\t\twhere, r(PHE scheme) is a random number in n(PHE scheme) such that r and n are coprime and \n",
        "\t\t\t\tsum_x(SHE scheme) is the summation of xi's for i belongs to S i.e subset of {1,2,3 ... tau}\n",
        "    \"\"\"\n",
        "    r = random.randint( 1, public_key.n-1)\n",
        "    while not xgcd( r, public_key.n)[0] == 1:\n",
        "        r = random.randint( 1, public_key.n)   \n",
        "    random_subset = generate_random_subset(tau(_lambda))\n",
        "    sum_x = 0\n",
        "\t# the summation of xi's for i belongs to S i.e subset of {1,2,3 ... tau}\n",
        "    for i in random_subset:\n",
        "        sum_x += public_keyS[i]\n",
        "    c = (plaintext + 2*r + 2*sum_x) % public_key.nsq \n",
        "    return c"
      ]
    },
    {
      "cell_type": "code",
      "execution_count": null,
      "metadata": {
        "id": "nHGqQJhatVLM"
      },
      "outputs": [],
      "source": [
        "# Function call to encrypt image\n",
        "def ImgEncrypt(_lambda, pk, plainimg, pub):\n",
        "    \"\"\"\n",
        "\tImgEncrypt(_lambda, pk, plainimg, pub)\n",
        "\t\targs:\n",
        "\t\t\t_lambda : SHE security parameter lambda\n",
        "\t\t\tpk : SHE public_keyS function \n",
        "\t\t\tplainimg : PIL Image object\n",
        "\t\t\tpub : Paillier Publickey object\n",
        "\t\treturns:\n",
        "\t\t\tcipherimg: Encryption of plainimg\n",
        "    \"\"\"\n",
        "    cipherimg = np.asarray(plainimg)\n",
        "    shape = cipherimg.shape\n",
        "    cipherimg = cipherimg.flatten().tolist()\n",
        "    cipherimg = [Hybrid_encryption(_lambda, pk, pix, pub) for pix in cipherimg]\n",
        "    \n",
        "    return np.asarray(cipherimg).reshape(shape)"
      ]
    },
    {
      "cell_type": "code",
      "execution_count": null,
      "metadata": {
        "colab": {
          "base_uri": "https://localhost:8080/"
        },
        "id": "4s2_UltFtVLM",
        "outputId": "8f0721d8-60c5-4298-952c-54e69a1f4b13"
      },
      "outputs": [
        {
          "output_type": "stream",
          "name": "stdout",
          "text": [
            "Generating secret key...\n",
            "Generating public key (if it takes too much time, stop and rerun the cell to start from a new generation)...\n",
            "Generating Public/Private keys for PHE...\n",
            "Folder:  /content/drive/My Drive/COVID-sample-dataset/Plain-4-classes-sample20/Covid\n",
            "------------------------------------------------------------------------\n",
            "/content/drive/My Drive/COVID-sample-dataset/Plain-4-classes-sample20/Covid/COVID-1.png\n"
          ]
        },
        {
          "output_type": "stream",
          "name": "stderr",
          "text": [
            "WARNING:root:Lossy conversion from float64 to uint8. Range [3.451964696541589e+76, 2.332657587528448e+80]. Convert image to uint8 prior to saving to suppress this warning.\n"
          ]
        },
        {
          "output_type": "stream",
          "name": "stdout",
          "text": [
            "/content/drive/My Drive/COVID-sample-dataset/Encrypted-4-classes-sample20/Covid/COVID-1.png saved.\n",
            "/content/drive/My Drive/COVID-sample-dataset/Plain-4-classes-sample20/Covid/COVID-2.png\n"
          ]
        },
        {
          "output_type": "stream",
          "name": "stderr",
          "text": [
            "WARNING:root:Lossy conversion from float64 to uint8. Range [2.8961699594201487e+76, 2.3326579411378737e+80]. Convert image to uint8 prior to saving to suppress this warning.\n"
          ]
        },
        {
          "output_type": "stream",
          "name": "stdout",
          "text": [
            "/content/drive/My Drive/COVID-sample-dataset/Encrypted-4-classes-sample20/Covid/COVID-2.png saved.\n",
            "/content/drive/My Drive/COVID-sample-dataset/Plain-4-classes-sample20/Covid/COVID-3.png\n"
          ]
        },
        {
          "output_type": "stream",
          "name": "stderr",
          "text": [
            "WARNING:root:Lossy conversion from float64 to uint8. Range [3.1127817270943334e+76, 2.332657259130415e+80]. Convert image to uint8 prior to saving to suppress this warning.\n"
          ]
        },
        {
          "output_type": "stream",
          "name": "stdout",
          "text": [
            "/content/drive/My Drive/COVID-sample-dataset/Encrypted-4-classes-sample20/Covid/COVID-3.png saved.\n",
            "/content/drive/My Drive/COVID-sample-dataset/Plain-4-classes-sample20/Covid/COVID-4.png\n"
          ]
        },
        {
          "output_type": "stream",
          "name": "stderr",
          "text": [
            "WARNING:root:Lossy conversion from float64 to uint8. Range [2.8156369523512705e+76, 2.3326570121340188e+80]. Convert image to uint8 prior to saving to suppress this warning.\n"
          ]
        },
        {
          "output_type": "stream",
          "name": "stdout",
          "text": [
            "/content/drive/My Drive/COVID-sample-dataset/Encrypted-4-classes-sample20/Covid/COVID-4.png saved.\n",
            "/content/drive/My Drive/COVID-sample-dataset/Plain-4-classes-sample20/Covid/COVID-5.png\n"
          ]
        },
        {
          "output_type": "stream",
          "name": "stderr",
          "text": [
            "WARNING:root:Lossy conversion from float64 to uint8. Range [2.859634448370489e+76, 2.3326577863137324e+80]. Convert image to uint8 prior to saving to suppress this warning.\n"
          ]
        },
        {
          "output_type": "stream",
          "name": "stdout",
          "text": [
            "/content/drive/My Drive/COVID-sample-dataset/Encrypted-4-classes-sample20/Covid/COVID-5.png saved.\n",
            "/content/drive/My Drive/COVID-sample-dataset/Plain-4-classes-sample20/Covid/COVID-6.png\n"
          ]
        },
        {
          "output_type": "stream",
          "name": "stderr",
          "text": [
            "WARNING:root:Lossy conversion from float64 to uint8. Range [3.324092197671567e+76, 2.332656253096212e+80]. Convert image to uint8 prior to saving to suppress this warning.\n"
          ]
        },
        {
          "output_type": "stream",
          "name": "stdout",
          "text": [
            "/content/drive/My Drive/COVID-sample-dataset/Encrypted-4-classes-sample20/Covid/COVID-6.png saved.\n",
            "/content/drive/My Drive/COVID-sample-dataset/Plain-4-classes-sample20/Covid/COVID-7.png\n"
          ]
        },
        {
          "output_type": "stream",
          "name": "stderr",
          "text": [
            "WARNING:root:Lossy conversion from float64 to uint8. Range [3.2635094639485257e+76, 2.3326569678873249e+80]. Convert image to uint8 prior to saving to suppress this warning.\n"
          ]
        },
        {
          "output_type": "stream",
          "name": "stdout",
          "text": [
            "/content/drive/My Drive/COVID-sample-dataset/Encrypted-4-classes-sample20/Covid/COVID-7.png saved.\n",
            "/content/drive/My Drive/COVID-sample-dataset/Plain-4-classes-sample20/Covid/COVID-8.png\n"
          ]
        },
        {
          "output_type": "stream",
          "name": "stderr",
          "text": [
            "WARNING:root:Lossy conversion from float64 to uint8. Range [2.8275405300345318e+76, 2.332658044617514e+80]. Convert image to uint8 prior to saving to suppress this warning.\n"
          ]
        },
        {
          "output_type": "stream",
          "name": "stdout",
          "text": [
            "/content/drive/My Drive/COVID-sample-dataset/Encrypted-4-classes-sample20/Covid/COVID-8.png saved.\n",
            "/content/drive/My Drive/COVID-sample-dataset/Plain-4-classes-sample20/Covid/COVID-9.png\n"
          ]
        },
        {
          "output_type": "stream",
          "name": "stderr",
          "text": [
            "WARNING:root:Lossy conversion from float64 to uint8. Range [3.130472950885239e+76, 2.3326577505513784e+80]. Convert image to uint8 prior to saving to suppress this warning.\n"
          ]
        },
        {
          "output_type": "stream",
          "name": "stdout",
          "text": [
            "/content/drive/My Drive/COVID-sample-dataset/Encrypted-4-classes-sample20/Covid/COVID-9.png saved.\n",
            "/content/drive/My Drive/COVID-sample-dataset/Plain-4-classes-sample20/Covid/COVID-10.png\n"
          ]
        },
        {
          "output_type": "stream",
          "name": "stderr",
          "text": [
            "WARNING:root:Lossy conversion from float64 to uint8. Range [2.789033006974767e+76, 2.332657266863735e+80]. Convert image to uint8 prior to saving to suppress this warning.\n"
          ]
        },
        {
          "output_type": "stream",
          "name": "stdout",
          "text": [
            "/content/drive/My Drive/COVID-sample-dataset/Encrypted-4-classes-sample20/Covid/COVID-10.png saved.\n",
            "/content/drive/My Drive/COVID-sample-dataset/Plain-4-classes-sample20/Covid/COVID-11.png\n"
          ]
        },
        {
          "output_type": "stream",
          "name": "stderr",
          "text": [
            "WARNING:root:Lossy conversion from float64 to uint8. Range [3.0464611879566384e+76, 2.3326572175499876e+80]. Convert image to uint8 prior to saving to suppress this warning.\n"
          ]
        },
        {
          "output_type": "stream",
          "name": "stdout",
          "text": [
            "/content/drive/My Drive/COVID-sample-dataset/Encrypted-4-classes-sample20/Covid/COVID-11.png saved.\n",
            "/content/drive/My Drive/COVID-sample-dataset/Plain-4-classes-sample20/Covid/COVID-12.png\n"
          ]
        },
        {
          "output_type": "stream",
          "name": "stderr",
          "text": [
            "WARNING:root:Lossy conversion from float64 to uint8. Range [3.3821532456835495e+76, 2.3326580638493367e+80]. Convert image to uint8 prior to saving to suppress this warning.\n"
          ]
        },
        {
          "output_type": "stream",
          "name": "stdout",
          "text": [
            "/content/drive/My Drive/COVID-sample-dataset/Encrypted-4-classes-sample20/Covid/COVID-12.png saved.\n",
            "/content/drive/My Drive/COVID-sample-dataset/Plain-4-classes-sample20/Covid/COVID-13.png\n"
          ]
        },
        {
          "output_type": "stream",
          "name": "stderr",
          "text": [
            "WARNING:root:Lossy conversion from float64 to uint8. Range [3.7429452893417324e+76, 2.3326579308195138e+80]. Convert image to uint8 prior to saving to suppress this warning.\n"
          ]
        },
        {
          "output_type": "stream",
          "name": "stdout",
          "text": [
            "/content/drive/My Drive/COVID-sample-dataset/Encrypted-4-classes-sample20/Covid/COVID-13.png saved.\n",
            "/content/drive/My Drive/COVID-sample-dataset/Plain-4-classes-sample20/Covid/COVID-14.png\n"
          ]
        },
        {
          "output_type": "stream",
          "name": "stderr",
          "text": [
            "WARNING:root:Lossy conversion from float64 to uint8. Range [2.7819754578565562e+76, 2.3326576104543201e+80]. Convert image to uint8 prior to saving to suppress this warning.\n"
          ]
        },
        {
          "output_type": "stream",
          "name": "stdout",
          "text": [
            "/content/drive/My Drive/COVID-sample-dataset/Encrypted-4-classes-sample20/Covid/COVID-14.png saved.\n",
            "/content/drive/My Drive/COVID-sample-dataset/Plain-4-classes-sample20/Covid/COVID-15.png\n"
          ]
        },
        {
          "output_type": "stream",
          "name": "stderr",
          "text": [
            "WARNING:root:Lossy conversion from float64 to uint8. Range [3.343079702554791e+76, 2.332657100724925e+80]. Convert image to uint8 prior to saving to suppress this warning.\n"
          ]
        },
        {
          "output_type": "stream",
          "name": "stdout",
          "text": [
            "/content/drive/My Drive/COVID-sample-dataset/Encrypted-4-classes-sample20/Covid/COVID-15.png saved.\n",
            "/content/drive/My Drive/COVID-sample-dataset/Plain-4-classes-sample20/Covid/COVID-16.png\n"
          ]
        },
        {
          "output_type": "stream",
          "name": "stderr",
          "text": [
            "WARNING:root:Lossy conversion from float64 to uint8. Range [3.373095257123132e+76, 2.3326570762352694e+80]. Convert image to uint8 prior to saving to suppress this warning.\n"
          ]
        },
        {
          "output_type": "stream",
          "name": "stdout",
          "text": [
            "/content/drive/My Drive/COVID-sample-dataset/Encrypted-4-classes-sample20/Covid/COVID-16.png saved.\n",
            "/content/drive/My Drive/COVID-sample-dataset/Plain-4-classes-sample20/Covid/COVID-17.png\n"
          ]
        },
        {
          "output_type": "stream",
          "name": "stderr",
          "text": [
            "WARNING:root:Lossy conversion from float64 to uint8. Range [3.246806757649636e+76, 2.332657817555606e+80]. Convert image to uint8 prior to saving to suppress this warning.\n"
          ]
        },
        {
          "output_type": "stream",
          "name": "stdout",
          "text": [
            "/content/drive/My Drive/COVID-sample-dataset/Encrypted-4-classes-sample20/Covid/COVID-17.png saved.\n",
            "/content/drive/My Drive/COVID-sample-dataset/Plain-4-classes-sample20/Covid/COVID-18.png\n"
          ]
        },
        {
          "output_type": "stream",
          "name": "stderr",
          "text": [
            "WARNING:root:Lossy conversion from float64 to uint8. Range [3.169383458325219e+76, 2.3326567086861187e+80]. Convert image to uint8 prior to saving to suppress this warning.\n"
          ]
        },
        {
          "output_type": "stream",
          "name": "stdout",
          "text": [
            "/content/drive/My Drive/COVID-sample-dataset/Encrypted-4-classes-sample20/Covid/COVID-18.png saved.\n",
            "/content/drive/My Drive/COVID-sample-dataset/Plain-4-classes-sample20/Covid/COVID-19.png\n"
          ]
        },
        {
          "output_type": "stream",
          "name": "stderr",
          "text": [
            "WARNING:root:Lossy conversion from float64 to uint8. Range [3.8808768385134606e+76, 2.33265807544702e+80]. Convert image to uint8 prior to saving to suppress this warning.\n"
          ]
        },
        {
          "output_type": "stream",
          "name": "stdout",
          "text": [
            "/content/drive/My Drive/COVID-sample-dataset/Encrypted-4-classes-sample20/Covid/COVID-19.png saved.\n",
            "/content/drive/My Drive/COVID-sample-dataset/Plain-4-classes-sample20/Covid/COVID-20.png\n"
          ]
        },
        {
          "output_type": "stream",
          "name": "stderr",
          "text": [
            "WARNING:root:Lossy conversion from float64 to uint8. Range [3.2692433992657464e+76, 2.3326566300574517e+80]. Convert image to uint8 prior to saving to suppress this warning.\n"
          ]
        },
        {
          "output_type": "stream",
          "name": "stdout",
          "text": [
            "/content/drive/My Drive/COVID-sample-dataset/Encrypted-4-classes-sample20/Covid/COVID-20.png saved.\n",
            "Folder:  /content/drive/My Drive/COVID-sample-dataset/Plain-4-classes-sample20/Lung_Opacity\n",
            "------------------------------------------------------------------------\n",
            "/content/drive/My Drive/COVID-sample-dataset/Plain-4-classes-sample20/Lung_Opacity/Lung_Opacity-1.png\n"
          ]
        },
        {
          "output_type": "stream",
          "name": "stderr",
          "text": [
            "WARNING:root:Lossy conversion from float64 to uint8. Range [2.970380082587993e+76, 2.3326579669296488e+80]. Convert image to uint8 prior to saving to suppress this warning.\n"
          ]
        },
        {
          "output_type": "stream",
          "name": "stdout",
          "text": [
            "/content/drive/My Drive/COVID-sample-dataset/Encrypted-4-classes-sample20/Lung_Opacity/Lung_Opacity-1.png saved.\n",
            "/content/drive/My Drive/COVID-sample-dataset/Plain-4-classes-sample20/Lung_Opacity/Lung_Opacity-2.png\n"
          ]
        },
        {
          "output_type": "stream",
          "name": "stderr",
          "text": [
            "WARNING:root:Lossy conversion from float64 to uint8. Range [2.969019427543094e+76, 2.332657398526312e+80]. Convert image to uint8 prior to saving to suppress this warning.\n"
          ]
        },
        {
          "output_type": "stream",
          "name": "stdout",
          "text": [
            "/content/drive/My Drive/COVID-sample-dataset/Encrypted-4-classes-sample20/Lung_Opacity/Lung_Opacity-2.png saved.\n",
            "/content/drive/My Drive/COVID-sample-dataset/Plain-4-classes-sample20/Lung_Opacity/Lung_Opacity-3.png\n"
          ]
        },
        {
          "output_type": "stream",
          "name": "stderr",
          "text": [
            "WARNING:root:Lossy conversion from float64 to uint8. Range [3.3063195260543627e+76, 2.3326580790295738e+80]. Convert image to uint8 prior to saving to suppress this warning.\n"
          ]
        },
        {
          "output_type": "stream",
          "name": "stdout",
          "text": [
            "/content/drive/My Drive/COVID-sample-dataset/Encrypted-4-classes-sample20/Lung_Opacity/Lung_Opacity-3.png saved.\n",
            "/content/drive/My Drive/COVID-sample-dataset/Plain-4-classes-sample20/Lung_Opacity/Lung_Opacity-4.png\n"
          ]
        },
        {
          "output_type": "stream",
          "name": "stderr",
          "text": [
            "WARNING:root:Lossy conversion from float64 to uint8. Range [3.344533906793065e+76, 2.3326575840775358e+80]. Convert image to uint8 prior to saving to suppress this warning.\n"
          ]
        },
        {
          "output_type": "stream",
          "name": "stdout",
          "text": [
            "/content/drive/My Drive/COVID-sample-dataset/Encrypted-4-classes-sample20/Lung_Opacity/Lung_Opacity-4.png saved.\n",
            "/content/drive/My Drive/COVID-sample-dataset/Plain-4-classes-sample20/Lung_Opacity/Lung_Opacity-5.png\n"
          ]
        },
        {
          "output_type": "stream",
          "name": "stderr",
          "text": [
            "WARNING:root:Lossy conversion from float64 to uint8. Range [2.8512683857469428e+76, 2.3326576544485147e+80]. Convert image to uint8 prior to saving to suppress this warning.\n"
          ]
        },
        {
          "output_type": "stream",
          "name": "stdout",
          "text": [
            "/content/drive/My Drive/COVID-sample-dataset/Encrypted-4-classes-sample20/Lung_Opacity/Lung_Opacity-5.png saved.\n",
            "/content/drive/My Drive/COVID-sample-dataset/Plain-4-classes-sample20/Lung_Opacity/Lung_Opacity-6.png\n"
          ]
        },
        {
          "output_type": "stream",
          "name": "stderr",
          "text": [
            "WARNING:root:Lossy conversion from float64 to uint8. Range [3.676258169938803e+76, 2.3326577755373175e+80]. Convert image to uint8 prior to saving to suppress this warning.\n"
          ]
        },
        {
          "output_type": "stream",
          "name": "stdout",
          "text": [
            "/content/drive/My Drive/COVID-sample-dataset/Encrypted-4-classes-sample20/Lung_Opacity/Lung_Opacity-6.png saved.\n",
            "/content/drive/My Drive/COVID-sample-dataset/Plain-4-classes-sample20/Lung_Opacity/Lung_Opacity-7.png\n"
          ]
        },
        {
          "output_type": "stream",
          "name": "stderr",
          "text": [
            "WARNING:root:Lossy conversion from float64 to uint8. Range [3.9420303350476e+76, 2.3326561855086126e+80]. Convert image to uint8 prior to saving to suppress this warning.\n"
          ]
        },
        {
          "output_type": "stream",
          "name": "stdout",
          "text": [
            "/content/drive/My Drive/COVID-sample-dataset/Encrypted-4-classes-sample20/Lung_Opacity/Lung_Opacity-7.png saved.\n",
            "/content/drive/My Drive/COVID-sample-dataset/Plain-4-classes-sample20/Lung_Opacity/Lung_Opacity-8.png\n"
          ]
        },
        {
          "output_type": "stream",
          "name": "stderr",
          "text": [
            "WARNING:root:Lossy conversion from float64 to uint8. Range [2.8938864628425407e+76, 2.332657985930355e+80]. Convert image to uint8 prior to saving to suppress this warning.\n"
          ]
        },
        {
          "output_type": "stream",
          "name": "stdout",
          "text": [
            "/content/drive/My Drive/COVID-sample-dataset/Encrypted-4-classes-sample20/Lung_Opacity/Lung_Opacity-8.png saved.\n",
            "/content/drive/My Drive/COVID-sample-dataset/Plain-4-classes-sample20/Lung_Opacity/Lung_Opacity-9.png\n"
          ]
        },
        {
          "output_type": "stream",
          "name": "stderr",
          "text": [
            "WARNING:root:Lossy conversion from float64 to uint8. Range [3.450398869333998e+76, 2.3326569292583484e+80]. Convert image to uint8 prior to saving to suppress this warning.\n"
          ]
        },
        {
          "output_type": "stream",
          "name": "stdout",
          "text": [
            "/content/drive/My Drive/COVID-sample-dataset/Encrypted-4-classes-sample20/Lung_Opacity/Lung_Opacity-9.png saved.\n",
            "/content/drive/My Drive/COVID-sample-dataset/Plain-4-classes-sample20/Lung_Opacity/Lung_Opacity-10.png\n"
          ]
        },
        {
          "output_type": "stream",
          "name": "stderr",
          "text": [
            "WARNING:root:Lossy conversion from float64 to uint8. Range [3.056081126943701e+76, 2.3326575919665225e+80]. Convert image to uint8 prior to saving to suppress this warning.\n"
          ]
        },
        {
          "output_type": "stream",
          "name": "stdout",
          "text": [
            "/content/drive/My Drive/COVID-sample-dataset/Encrypted-4-classes-sample20/Lung_Opacity/Lung_Opacity-10.png saved.\n",
            "/content/drive/My Drive/COVID-sample-dataset/Plain-4-classes-sample20/Lung_Opacity/Lung_Opacity-11.png\n"
          ]
        },
        {
          "output_type": "stream",
          "name": "stderr",
          "text": [
            "WARNING:root:Lossy conversion from float64 to uint8. Range [3.09880081635945e+76, 2.3326580719585185e+80]. Convert image to uint8 prior to saving to suppress this warning.\n"
          ]
        },
        {
          "output_type": "stream",
          "name": "stdout",
          "text": [
            "/content/drive/My Drive/COVID-sample-dataset/Encrypted-4-classes-sample20/Lung_Opacity/Lung_Opacity-11.png saved.\n",
            "/content/drive/My Drive/COVID-sample-dataset/Plain-4-classes-sample20/Lung_Opacity/Lung_Opacity-12.png\n"
          ]
        },
        {
          "output_type": "stream",
          "name": "stderr",
          "text": [
            "WARNING:root:Lossy conversion from float64 to uint8. Range [3.575795417667662e+76, 2.3326579389243804e+80]. Convert image to uint8 prior to saving to suppress this warning.\n"
          ]
        },
        {
          "output_type": "stream",
          "name": "stdout",
          "text": [
            "/content/drive/My Drive/COVID-sample-dataset/Encrypted-4-classes-sample20/Lung_Opacity/Lung_Opacity-12.png saved.\n",
            "/content/drive/My Drive/COVID-sample-dataset/Plain-4-classes-sample20/Lung_Opacity/Lung_Opacity-13.png\n"
          ]
        },
        {
          "output_type": "stream",
          "name": "stderr",
          "text": [
            "WARNING:root:Lossy conversion from float64 to uint8. Range [2.8165323602419767e+76, 2.3326575583132828e+80]. Convert image to uint8 prior to saving to suppress this warning.\n"
          ]
        },
        {
          "output_type": "stream",
          "name": "stdout",
          "text": [
            "/content/drive/My Drive/COVID-sample-dataset/Encrypted-4-classes-sample20/Lung_Opacity/Lung_Opacity-13.png saved.\n",
            "/content/drive/My Drive/COVID-sample-dataset/Plain-4-classes-sample20/Lung_Opacity/Lung_Opacity-14.png\n"
          ]
        },
        {
          "output_type": "stream",
          "name": "stderr",
          "text": [
            "WARNING:root:Lossy conversion from float64 to uint8. Range [2.8755904433952054e+76, 2.3326570426587476e+80]. Convert image to uint8 prior to saving to suppress this warning.\n"
          ]
        },
        {
          "output_type": "stream",
          "name": "stdout",
          "text": [
            "/content/drive/My Drive/COVID-sample-dataset/Encrypted-4-classes-sample20/Lung_Opacity/Lung_Opacity-14.png saved.\n",
            "/content/drive/My Drive/COVID-sample-dataset/Plain-4-classes-sample20/Lung_Opacity/Lung_Opacity-15.png\n"
          ]
        },
        {
          "output_type": "stream",
          "name": "stderr",
          "text": [
            "WARNING:root:Lossy conversion from float64 to uint8. Range [3.464850757928317e+76, 2.3326579273910859e+80]. Convert image to uint8 prior to saving to suppress this warning.\n"
          ]
        },
        {
          "output_type": "stream",
          "name": "stdout",
          "text": [
            "/content/drive/My Drive/COVID-sample-dataset/Encrypted-4-classes-sample20/Lung_Opacity/Lung_Opacity-15.png saved.\n",
            "/content/drive/My Drive/COVID-sample-dataset/Plain-4-classes-sample20/Lung_Opacity/Lung_Opacity-16.png\n"
          ]
        },
        {
          "output_type": "stream",
          "name": "stderr",
          "text": [
            "WARNING:root:Lossy conversion from float64 to uint8. Range [4.0049754210012377e+76, 2.3326575115888647e+80]. Convert image to uint8 prior to saving to suppress this warning.\n"
          ]
        },
        {
          "output_type": "stream",
          "name": "stdout",
          "text": [
            "/content/drive/My Drive/COVID-sample-dataset/Encrypted-4-classes-sample20/Lung_Opacity/Lung_Opacity-16.png saved.\n",
            "/content/drive/My Drive/COVID-sample-dataset/Plain-4-classes-sample20/Lung_Opacity/Lung_Opacity-17.png\n"
          ]
        },
        {
          "output_type": "stream",
          "name": "stderr",
          "text": [
            "WARNING:root:Lossy conversion from float64 to uint8. Range [3.152463611564825e+76, 2.332657682570308e+80]. Convert image to uint8 prior to saving to suppress this warning.\n"
          ]
        },
        {
          "output_type": "stream",
          "name": "stdout",
          "text": [
            "/content/drive/My Drive/COVID-sample-dataset/Encrypted-4-classes-sample20/Lung_Opacity/Lung_Opacity-17.png saved.\n",
            "/content/drive/My Drive/COVID-sample-dataset/Plain-4-classes-sample20/Lung_Opacity/Lung_Opacity-18.png\n"
          ]
        },
        {
          "output_type": "stream",
          "name": "stderr",
          "text": [
            "WARNING:root:Lossy conversion from float64 to uint8. Range [4.0238326201639987e+76, 2.3326571030861357e+80]. Convert image to uint8 prior to saving to suppress this warning.\n"
          ]
        },
        {
          "output_type": "stream",
          "name": "stdout",
          "text": [
            "/content/drive/My Drive/COVID-sample-dataset/Encrypted-4-classes-sample20/Lung_Opacity/Lung_Opacity-18.png saved.\n",
            "/content/drive/My Drive/COVID-sample-dataset/Plain-4-classes-sample20/Lung_Opacity/Lung_Opacity-19.png\n"
          ]
        },
        {
          "output_type": "stream",
          "name": "stderr",
          "text": [
            "WARNING:root:Lossy conversion from float64 to uint8. Range [2.978452872988088e+76, 2.3326575876319813e+80]. Convert image to uint8 prior to saving to suppress this warning.\n"
          ]
        },
        {
          "output_type": "stream",
          "name": "stdout",
          "text": [
            "/content/drive/My Drive/COVID-sample-dataset/Encrypted-4-classes-sample20/Lung_Opacity/Lung_Opacity-19.png saved.\n",
            "/content/drive/My Drive/COVID-sample-dataset/Plain-4-classes-sample20/Lung_Opacity/Lung_Opacity-20.png\n"
          ]
        },
        {
          "output_type": "stream",
          "name": "stderr",
          "text": [
            "WARNING:root:Lossy conversion from float64 to uint8. Range [3.403776355627833e+76, 2.332657924991772e+80]. Convert image to uint8 prior to saving to suppress this warning.\n"
          ]
        },
        {
          "output_type": "stream",
          "name": "stdout",
          "text": [
            "/content/drive/My Drive/COVID-sample-dataset/Encrypted-4-classes-sample20/Lung_Opacity/Lung_Opacity-20.png saved.\n",
            "Folder:  /content/drive/My Drive/COVID-sample-dataset/Plain-4-classes-sample20/Normal\n",
            "------------------------------------------------------------------------\n",
            "/content/drive/My Drive/COVID-sample-dataset/Plain-4-classes-sample20/Normal/Normal-1.png\n"
          ]
        },
        {
          "output_type": "stream",
          "name": "stderr",
          "text": [
            "WARNING:root:Lossy conversion from float64 to uint8. Range [3.0351477799488005e+76, 2.3326574373311095e+80]. Convert image to uint8 prior to saving to suppress this warning.\n"
          ]
        },
        {
          "output_type": "stream",
          "name": "stdout",
          "text": [
            "/content/drive/My Drive/COVID-sample-dataset/Encrypted-4-classes-sample20/Normal/Normal-1.png saved.\n",
            "/content/drive/My Drive/COVID-sample-dataset/Plain-4-classes-sample20/Normal/Normal-2.png\n"
          ]
        },
        {
          "output_type": "stream",
          "name": "stderr",
          "text": [
            "WARNING:root:Lossy conversion from float64 to uint8. Range [2.988194987398631e+76, 2.332658020547588e+80]. Convert image to uint8 prior to saving to suppress this warning.\n"
          ]
        },
        {
          "output_type": "stream",
          "name": "stdout",
          "text": [
            "/content/drive/My Drive/COVID-sample-dataset/Encrypted-4-classes-sample20/Normal/Normal-2.png saved.\n",
            "/content/drive/My Drive/COVID-sample-dataset/Plain-4-classes-sample20/Normal/Normal-3.png\n"
          ]
        },
        {
          "output_type": "stream",
          "name": "stderr",
          "text": [
            "WARNING:root:Lossy conversion from float64 to uint8. Range [3.0623782649228014e+76, 2.3326579327293973e+80]. Convert image to uint8 prior to saving to suppress this warning.\n"
          ]
        },
        {
          "output_type": "stream",
          "name": "stdout",
          "text": [
            "/content/drive/My Drive/COVID-sample-dataset/Encrypted-4-classes-sample20/Normal/Normal-3.png saved.\n",
            "/content/drive/My Drive/COVID-sample-dataset/Plain-4-classes-sample20/Normal/Normal-5.png\n"
          ]
        },
        {
          "output_type": "stream",
          "name": "stderr",
          "text": [
            "WARNING:root:Lossy conversion from float64 to uint8. Range [3.8568691130873194e+76, 2.3326564079929025e+80]. Convert image to uint8 prior to saving to suppress this warning.\n"
          ]
        },
        {
          "output_type": "stream",
          "name": "stdout",
          "text": [
            "/content/drive/My Drive/COVID-sample-dataset/Encrypted-4-classes-sample20/Normal/Normal-5.png saved.\n",
            "/content/drive/My Drive/COVID-sample-dataset/Plain-4-classes-sample20/Normal/Normal-6.png\n"
          ]
        },
        {
          "output_type": "stream",
          "name": "stderr",
          "text": [
            "WARNING:root:Lossy conversion from float64 to uint8. Range [2.989101584654005e+76, 2.332658071850404e+80]. Convert image to uint8 prior to saving to suppress this warning.\n"
          ]
        },
        {
          "output_type": "stream",
          "name": "stdout",
          "text": [
            "/content/drive/My Drive/COVID-sample-dataset/Encrypted-4-classes-sample20/Normal/Normal-6.png saved.\n",
            "/content/drive/My Drive/COVID-sample-dataset/Plain-4-classes-sample20/Normal/Normal-7.png\n"
          ]
        },
        {
          "output_type": "stream",
          "name": "stderr",
          "text": [
            "WARNING:root:Lossy conversion from float64 to uint8. Range [2.8733554997498782e+76, 2.3326570956871582e+80]. Convert image to uint8 prior to saving to suppress this warning.\n"
          ]
        },
        {
          "output_type": "stream",
          "name": "stdout",
          "text": [
            "/content/drive/My Drive/COVID-sample-dataset/Encrypted-4-classes-sample20/Normal/Normal-7.png saved.\n",
            "/content/drive/My Drive/COVID-sample-dataset/Plain-4-classes-sample20/Normal/Normal-8.png\n"
          ]
        },
        {
          "output_type": "stream",
          "name": "stderr",
          "text": [
            "WARNING:root:Lossy conversion from float64 to uint8. Range [3.784265609400325e+76, 2.3326575663812498e+80]. Convert image to uint8 prior to saving to suppress this warning.\n"
          ]
        },
        {
          "output_type": "stream",
          "name": "stdout",
          "text": [
            "/content/drive/My Drive/COVID-sample-dataset/Encrypted-4-classes-sample20/Normal/Normal-8.png saved.\n",
            "/content/drive/My Drive/COVID-sample-dataset/Plain-4-classes-sample20/Normal/Normal-9.png\n"
          ]
        },
        {
          "output_type": "stream",
          "name": "stderr",
          "text": [
            "WARNING:root:Lossy conversion from float64 to uint8. Range [3.0392895811269854e+76, 2.3326576614764923e+80]. Convert image to uint8 prior to saving to suppress this warning.\n"
          ]
        },
        {
          "output_type": "stream",
          "name": "stdout",
          "text": [
            "/content/drive/My Drive/COVID-sample-dataset/Encrypted-4-classes-sample20/Normal/Normal-9.png saved.\n",
            "/content/drive/My Drive/COVID-sample-dataset/Plain-4-classes-sample20/Normal/Normal-10.png\n"
          ]
        },
        {
          "output_type": "stream",
          "name": "stderr",
          "text": [
            "WARNING:root:Lossy conversion from float64 to uint8. Range [3.9203418469759444e+76, 2.33265803812502e+80]. Convert image to uint8 prior to saving to suppress this warning.\n"
          ]
        },
        {
          "output_type": "stream",
          "name": "stdout",
          "text": [
            "/content/drive/My Drive/COVID-sample-dataset/Encrypted-4-classes-sample20/Normal/Normal-10.png saved.\n",
            "/content/drive/My Drive/COVID-sample-dataset/Plain-4-classes-sample20/Normal/Normal-11.png\n"
          ]
        },
        {
          "output_type": "stream",
          "name": "stderr",
          "text": [
            "WARNING:root:Lossy conversion from float64 to uint8. Range [5.01205239699417e+76, 2.3326577867915687e+80]. Convert image to uint8 prior to saving to suppress this warning.\n"
          ]
        },
        {
          "output_type": "stream",
          "name": "stdout",
          "text": [
            "/content/drive/My Drive/COVID-sample-dataset/Encrypted-4-classes-sample20/Normal/Normal-11.png saved.\n",
            "/content/drive/My Drive/COVID-sample-dataset/Plain-4-classes-sample20/Normal/Normal-12.png\n"
          ]
        },
        {
          "output_type": "stream",
          "name": "stderr",
          "text": [
            "WARNING:root:Lossy conversion from float64 to uint8. Range [3.694776489115252e+76, 2.3326575900760076e+80]. Convert image to uint8 prior to saving to suppress this warning.\n"
          ]
        },
        {
          "output_type": "stream",
          "name": "stdout",
          "text": [
            "/content/drive/My Drive/COVID-sample-dataset/Encrypted-4-classes-sample20/Normal/Normal-12.png saved.\n",
            "/content/drive/My Drive/COVID-sample-dataset/Plain-4-classes-sample20/Normal/Normal-13.png\n"
          ]
        },
        {
          "output_type": "stream",
          "name": "stderr",
          "text": [
            "WARNING:root:Lossy conversion from float64 to uint8. Range [2.781376555936967e+76, 2.332657481203855e+80]. Convert image to uint8 prior to saving to suppress this warning.\n"
          ]
        },
        {
          "output_type": "stream",
          "name": "stdout",
          "text": [
            "/content/drive/My Drive/COVID-sample-dataset/Encrypted-4-classes-sample20/Normal/Normal-13.png saved.\n",
            "/content/drive/My Drive/COVID-sample-dataset/Plain-4-classes-sample20/Normal/Normal-14.png\n"
          ]
        },
        {
          "output_type": "stream",
          "name": "stderr",
          "text": [
            "WARNING:root:Lossy conversion from float64 to uint8. Range [3.332223777524479e+76, 2.3326572475014426e+80]. Convert image to uint8 prior to saving to suppress this warning.\n"
          ]
        },
        {
          "output_type": "stream",
          "name": "stdout",
          "text": [
            "/content/drive/My Drive/COVID-sample-dataset/Encrypted-4-classes-sample20/Normal/Normal-14.png saved.\n",
            "/content/drive/My Drive/COVID-sample-dataset/Plain-4-classes-sample20/Normal/Normal-15.png\n"
          ]
        },
        {
          "output_type": "stream",
          "name": "stderr",
          "text": [
            "WARNING:root:Lossy conversion from float64 to uint8. Range [3.234528362186051e+76, 2.3326576495996314e+80]. Convert image to uint8 prior to saving to suppress this warning.\n"
          ]
        },
        {
          "output_type": "stream",
          "name": "stdout",
          "text": [
            "/content/drive/My Drive/COVID-sample-dataset/Encrypted-4-classes-sample20/Normal/Normal-15.png saved.\n",
            "/content/drive/My Drive/COVID-sample-dataset/Plain-4-classes-sample20/Normal/Normal-16.png\n"
          ]
        },
        {
          "output_type": "stream",
          "name": "stderr",
          "text": [
            "WARNING:root:Lossy conversion from float64 to uint8. Range [4.6120451782675204e+76, 2.3326579494476485e+80]. Convert image to uint8 prior to saving to suppress this warning.\n"
          ]
        },
        {
          "output_type": "stream",
          "name": "stdout",
          "text": [
            "/content/drive/My Drive/COVID-sample-dataset/Encrypted-4-classes-sample20/Normal/Normal-16.png saved.\n",
            "/content/drive/My Drive/COVID-sample-dataset/Plain-4-classes-sample20/Normal/Normal-17.png\n"
          ]
        },
        {
          "output_type": "stream",
          "name": "stderr",
          "text": [
            "WARNING:root:Lossy conversion from float64 to uint8. Range [3.751131666117728e+76, 2.3326566410332561e+80]. Convert image to uint8 prior to saving to suppress this warning.\n"
          ]
        },
        {
          "output_type": "stream",
          "name": "stdout",
          "text": [
            "/content/drive/My Drive/COVID-sample-dataset/Encrypted-4-classes-sample20/Normal/Normal-17.png saved.\n",
            "/content/drive/My Drive/COVID-sample-dataset/Plain-4-classes-sample20/Normal/Normal-18.png\n"
          ]
        },
        {
          "output_type": "stream",
          "name": "stderr",
          "text": [
            "WARNING:root:Lossy conversion from float64 to uint8. Range [3.02732661521168e+76, 2.3326556658746326e+80]. Convert image to uint8 prior to saving to suppress this warning.\n"
          ]
        },
        {
          "output_type": "stream",
          "name": "stdout",
          "text": [
            "/content/drive/My Drive/COVID-sample-dataset/Encrypted-4-classes-sample20/Normal/Normal-18.png saved.\n",
            "/content/drive/My Drive/COVID-sample-dataset/Plain-4-classes-sample20/Normal/Normal-19.png\n"
          ]
        },
        {
          "output_type": "stream",
          "name": "stderr",
          "text": [
            "WARNING:root:Lossy conversion from float64 to uint8. Range [3.323145319195603e+76, 2.332657801454062e+80]. Convert image to uint8 prior to saving to suppress this warning.\n"
          ]
        },
        {
          "output_type": "stream",
          "name": "stdout",
          "text": [
            "/content/drive/My Drive/COVID-sample-dataset/Encrypted-4-classes-sample20/Normal/Normal-19.png saved.\n",
            "/content/drive/My Drive/COVID-sample-dataset/Plain-4-classes-sample20/Normal/Normal-20.png\n"
          ]
        },
        {
          "output_type": "stream",
          "name": "stderr",
          "text": [
            "WARNING:root:Lossy conversion from float64 to uint8. Range [2.9238603280487704e+76, 2.3326578628500949e+80]. Convert image to uint8 prior to saving to suppress this warning.\n"
          ]
        },
        {
          "output_type": "stream",
          "name": "stdout",
          "text": [
            "/content/drive/My Drive/COVID-sample-dataset/Encrypted-4-classes-sample20/Normal/Normal-20.png saved.\n",
            "Folder:  /content/drive/My Drive/COVID-sample-dataset/Plain-4-classes-sample20/Viral_Pneumonia\n",
            "------------------------------------------------------------------------\n",
            "/content/drive/My Drive/COVID-sample-dataset/Plain-4-classes-sample20/Viral_Pneumonia/Viral Pneumonia-1.png\n"
          ]
        },
        {
          "output_type": "stream",
          "name": "stderr",
          "text": [
            "WARNING:root:Lossy conversion from float64 to uint8. Range [3.4291851343288884e+76, 2.3326573820067428e+80]. Convert image to uint8 prior to saving to suppress this warning.\n"
          ]
        },
        {
          "output_type": "stream",
          "name": "stdout",
          "text": [
            "/content/drive/My Drive/COVID-sample-dataset/Encrypted-4-classes-sample20/Viral_Pneumonia/Viral Pneumonia-1.png saved.\n",
            "/content/drive/My Drive/COVID-sample-dataset/Plain-4-classes-sample20/Viral_Pneumonia/Viral Pneumonia-2.png\n"
          ]
        },
        {
          "output_type": "stream",
          "name": "stderr",
          "text": [
            "WARNING:root:Lossy conversion from float64 to uint8. Range [2.991310679360908e+76, 2.332656744454513e+80]. Convert image to uint8 prior to saving to suppress this warning.\n"
          ]
        },
        {
          "output_type": "stream",
          "name": "stdout",
          "text": [
            "/content/drive/My Drive/COVID-sample-dataset/Encrypted-4-classes-sample20/Viral_Pneumonia/Viral Pneumonia-2.png saved.\n",
            "/content/drive/My Drive/COVID-sample-dataset/Plain-4-classes-sample20/Viral_Pneumonia/Viral Pneumonia-3.png\n"
          ]
        },
        {
          "output_type": "stream",
          "name": "stderr",
          "text": [
            "WARNING:root:Lossy conversion from float64 to uint8. Range [3.345064482002367e+76, 2.3326575379141308e+80]. Convert image to uint8 prior to saving to suppress this warning.\n"
          ]
        },
        {
          "output_type": "stream",
          "name": "stdout",
          "text": [
            "/content/drive/My Drive/COVID-sample-dataset/Encrypted-4-classes-sample20/Viral_Pneumonia/Viral Pneumonia-3.png saved.\n",
            "/content/drive/My Drive/COVID-sample-dataset/Plain-4-classes-sample20/Viral_Pneumonia/Viral Pneumonia-4.png\n"
          ]
        },
        {
          "output_type": "stream",
          "name": "stderr",
          "text": [
            "WARNING:root:Lossy conversion from float64 to uint8. Range [3.099137244789465e+76, 2.3326578497345329e+80]. Convert image to uint8 prior to saving to suppress this warning.\n"
          ]
        },
        {
          "output_type": "stream",
          "name": "stdout",
          "text": [
            "/content/drive/My Drive/COVID-sample-dataset/Encrypted-4-classes-sample20/Viral_Pneumonia/Viral Pneumonia-4.png saved.\n",
            "/content/drive/My Drive/COVID-sample-dataset/Plain-4-classes-sample20/Viral_Pneumonia/Viral Pneumonia-5.png\n"
          ]
        },
        {
          "output_type": "stream",
          "name": "stderr",
          "text": [
            "WARNING:root:Lossy conversion from float64 to uint8. Range [2.928061635396713e+76, 2.3326562306443287e+80]. Convert image to uint8 prior to saving to suppress this warning.\n"
          ]
        },
        {
          "output_type": "stream",
          "name": "stdout",
          "text": [
            "/content/drive/My Drive/COVID-sample-dataset/Encrypted-4-classes-sample20/Viral_Pneumonia/Viral Pneumonia-5.png saved.\n",
            "/content/drive/My Drive/COVID-sample-dataset/Plain-4-classes-sample20/Viral_Pneumonia/Viral Pneumonia-6.png\n"
          ]
        },
        {
          "output_type": "stream",
          "name": "stderr",
          "text": [
            "WARNING:root:Lossy conversion from float64 to uint8. Range [2.951498402737601e+76, 2.3326574987538133e+80]. Convert image to uint8 prior to saving to suppress this warning.\n"
          ]
        },
        {
          "output_type": "stream",
          "name": "stdout",
          "text": [
            "/content/drive/My Drive/COVID-sample-dataset/Encrypted-4-classes-sample20/Viral_Pneumonia/Viral Pneumonia-6.png saved.\n",
            "/content/drive/My Drive/COVID-sample-dataset/Plain-4-classes-sample20/Viral_Pneumonia/Viral Pneumonia-7.png\n"
          ]
        },
        {
          "output_type": "stream",
          "name": "stderr",
          "text": [
            "WARNING:root:Lossy conversion from float64 to uint8. Range [3.3570823307867847e+76, 2.3326572998819964e+80]. Convert image to uint8 prior to saving to suppress this warning.\n"
          ]
        },
        {
          "output_type": "stream",
          "name": "stdout",
          "text": [
            "/content/drive/My Drive/COVID-sample-dataset/Encrypted-4-classes-sample20/Viral_Pneumonia/Viral Pneumonia-7.png saved.\n",
            "/content/drive/My Drive/COVID-sample-dataset/Plain-4-classes-sample20/Viral_Pneumonia/Viral Pneumonia-8.png\n"
          ]
        },
        {
          "output_type": "stream",
          "name": "stderr",
          "text": [
            "WARNING:root:Lossy conversion from float64 to uint8. Range [3.065299524358261e+76, 2.3326572231999768e+80]. Convert image to uint8 prior to saving to suppress this warning.\n"
          ]
        },
        {
          "output_type": "stream",
          "name": "stdout",
          "text": [
            "/content/drive/My Drive/COVID-sample-dataset/Encrypted-4-classes-sample20/Viral_Pneumonia/Viral Pneumonia-8.png saved.\n",
            "/content/drive/My Drive/COVID-sample-dataset/Plain-4-classes-sample20/Viral_Pneumonia/Viral Pneumonia-9.png\n"
          ]
        },
        {
          "output_type": "stream",
          "name": "stderr",
          "text": [
            "WARNING:root:Lossy conversion from float64 to uint8. Range [2.9524741058153943e+76, 2.3326570346699915e+80]. Convert image to uint8 prior to saving to suppress this warning.\n"
          ]
        },
        {
          "output_type": "stream",
          "name": "stdout",
          "text": [
            "/content/drive/My Drive/COVID-sample-dataset/Encrypted-4-classes-sample20/Viral_Pneumonia/Viral Pneumonia-9.png saved.\n",
            "/content/drive/My Drive/COVID-sample-dataset/Plain-4-classes-sample20/Viral_Pneumonia/Viral Pneumonia-10.png\n"
          ]
        },
        {
          "output_type": "stream",
          "name": "stderr",
          "text": [
            "WARNING:root:Lossy conversion from float64 to uint8. Range [2.945981156732525e+76, 2.3326566857207436e+80]. Convert image to uint8 prior to saving to suppress this warning.\n"
          ]
        },
        {
          "output_type": "stream",
          "name": "stdout",
          "text": [
            "/content/drive/My Drive/COVID-sample-dataset/Encrypted-4-classes-sample20/Viral_Pneumonia/Viral Pneumonia-10.png saved.\n",
            "/content/drive/My Drive/COVID-sample-dataset/Plain-4-classes-sample20/Viral_Pneumonia/Viral Pneumonia-11.png\n"
          ]
        },
        {
          "output_type": "stream",
          "name": "stderr",
          "text": [
            "WARNING:root:Lossy conversion from float64 to uint8. Range [2.91768784813333e+76, 2.3326577963369182e+80]. Convert image to uint8 prior to saving to suppress this warning.\n"
          ]
        },
        {
          "output_type": "stream",
          "name": "stdout",
          "text": [
            "/content/drive/My Drive/COVID-sample-dataset/Encrypted-4-classes-sample20/Viral_Pneumonia/Viral Pneumonia-11.png saved.\n",
            "/content/drive/My Drive/COVID-sample-dataset/Plain-4-classes-sample20/Viral_Pneumonia/Viral Pneumonia-12.png\n"
          ]
        },
        {
          "output_type": "stream",
          "name": "stderr",
          "text": [
            "WARNING:root:Lossy conversion from float64 to uint8. Range [3.059915847358833e+76, 2.3326580418235955e+80]. Convert image to uint8 prior to saving to suppress this warning.\n"
          ]
        },
        {
          "output_type": "stream",
          "name": "stdout",
          "text": [
            "/content/drive/My Drive/COVID-sample-dataset/Encrypted-4-classes-sample20/Viral_Pneumonia/Viral Pneumonia-12.png saved.\n",
            "/content/drive/My Drive/COVID-sample-dataset/Plain-4-classes-sample20/Viral_Pneumonia/Viral Pneumonia-13.png\n"
          ]
        },
        {
          "output_type": "stream",
          "name": "stderr",
          "text": [
            "WARNING:root:Lossy conversion from float64 to uint8. Range [3.008159289501604e+76, 2.332657496653377e+80]. Convert image to uint8 prior to saving to suppress this warning.\n"
          ]
        },
        {
          "output_type": "stream",
          "name": "stdout",
          "text": [
            "/content/drive/My Drive/COVID-sample-dataset/Encrypted-4-classes-sample20/Viral_Pneumonia/Viral Pneumonia-13.png saved.\n",
            "/content/drive/My Drive/COVID-sample-dataset/Plain-4-classes-sample20/Viral_Pneumonia/Viral Pneumonia-14.png\n"
          ]
        },
        {
          "output_type": "stream",
          "name": "stderr",
          "text": [
            "WARNING:root:Lossy conversion from float64 to uint8. Range [2.8986317114355204e+76, 2.3326575823994958e+80]. Convert image to uint8 prior to saving to suppress this warning.\n"
          ]
        },
        {
          "output_type": "stream",
          "name": "stdout",
          "text": [
            "/content/drive/My Drive/COVID-sample-dataset/Encrypted-4-classes-sample20/Viral_Pneumonia/Viral Pneumonia-14.png saved.\n",
            "/content/drive/My Drive/COVID-sample-dataset/Plain-4-classes-sample20/Viral_Pneumonia/Viral Pneumonia-15.png\n"
          ]
        },
        {
          "output_type": "stream",
          "name": "stderr",
          "text": [
            "WARNING:root:Lossy conversion from float64 to uint8. Range [3.864313872465971e+76, 2.3326563913557278e+80]. Convert image to uint8 prior to saving to suppress this warning.\n"
          ]
        },
        {
          "output_type": "stream",
          "name": "stdout",
          "text": [
            "/content/drive/My Drive/COVID-sample-dataset/Encrypted-4-classes-sample20/Viral_Pneumonia/Viral Pneumonia-15.png saved.\n",
            "/content/drive/My Drive/COVID-sample-dataset/Plain-4-classes-sample20/Viral_Pneumonia/Viral Pneumonia-16.png\n"
          ]
        },
        {
          "output_type": "stream",
          "name": "stderr",
          "text": [
            "WARNING:root:Lossy conversion from float64 to uint8. Range [3.5293221071934646e+76, 2.3326574635628262e+80]. Convert image to uint8 prior to saving to suppress this warning.\n"
          ]
        },
        {
          "output_type": "stream",
          "name": "stdout",
          "text": [
            "/content/drive/My Drive/COVID-sample-dataset/Encrypted-4-classes-sample20/Viral_Pneumonia/Viral Pneumonia-16.png saved.\n",
            "/content/drive/My Drive/COVID-sample-dataset/Plain-4-classes-sample20/Viral_Pneumonia/Viral Pneumonia-17.png\n"
          ]
        },
        {
          "output_type": "stream",
          "name": "stderr",
          "text": [
            "WARNING:root:Lossy conversion from float64 to uint8. Range [3.8833268889732255e+76, 2.3326574165199218e+80]. Convert image to uint8 prior to saving to suppress this warning.\n"
          ]
        },
        {
          "output_type": "stream",
          "name": "stdout",
          "text": [
            "/content/drive/My Drive/COVID-sample-dataset/Encrypted-4-classes-sample20/Viral_Pneumonia/Viral Pneumonia-17.png saved.\n",
            "/content/drive/My Drive/COVID-sample-dataset/Plain-4-classes-sample20/Viral_Pneumonia/Viral Pneumonia-18.png\n"
          ]
        },
        {
          "output_type": "stream",
          "name": "stderr",
          "text": [
            "WARNING:root:Lossy conversion from float64 to uint8. Range [2.8776123753656895e+76, 2.3326576565606006e+80]. Convert image to uint8 prior to saving to suppress this warning.\n"
          ]
        },
        {
          "output_type": "stream",
          "name": "stdout",
          "text": [
            "/content/drive/My Drive/COVID-sample-dataset/Encrypted-4-classes-sample20/Viral_Pneumonia/Viral Pneumonia-18.png saved.\n",
            "/content/drive/My Drive/COVID-sample-dataset/Plain-4-classes-sample20/Viral_Pneumonia/Viral Pneumonia-19.png\n"
          ]
        },
        {
          "output_type": "stream",
          "name": "stderr",
          "text": [
            "WARNING:root:Lossy conversion from float64 to uint8. Range [3.362110942524531e+76, 2.3326571721809102e+80]. Convert image to uint8 prior to saving to suppress this warning.\n"
          ]
        },
        {
          "output_type": "stream",
          "name": "stdout",
          "text": [
            "/content/drive/My Drive/COVID-sample-dataset/Encrypted-4-classes-sample20/Viral_Pneumonia/Viral Pneumonia-19.png saved.\n",
            "/content/drive/My Drive/COVID-sample-dataset/Plain-4-classes-sample20/Viral_Pneumonia/Viral Pneumonia-20.png\n"
          ]
        },
        {
          "output_type": "stream",
          "name": "stderr",
          "text": [
            "WARNING:root:Lossy conversion from float64 to uint8. Range [3.870634177817039e+76, 2.332657927963517e+80]. Convert image to uint8 prior to saving to suppress this warning.\n"
          ]
        },
        {
          "output_type": "stream",
          "name": "stdout",
          "text": [
            "/content/drive/My Drive/COVID-sample-dataset/Encrypted-4-classes-sample20/Viral_Pneumonia/Viral Pneumonia-20.png saved.\n"
          ]
        }
      ],
      "source": [
        "import time\n",
        "start = time.time()\n",
        "bigOconstant = 2\n",
        "_lambda = 2\n",
        "# function call to generate secret key(Properties of Somewhat Homomorphic Encryption)\n",
        "print('Generating secret key...')\n",
        "sk = secret_key(_lambda)\n",
        "# function call to generate public key list(Properties of Somewhat Homomorphic Encryption)\t\t\n",
        "print('Generating public key (if it takes too much time, stop and rerun the cell to start from a new generation)...')\n",
        "pk = public_keyS(_lambda, sk)\n",
        "# function call to generate tuple key Public Private key (Properties of Partially Homomorphic Encryption)\t\t\n",
        "print('Generating Public/Private keys for PHE...')\n",
        "pub, priv = generate_keys(bitlen=128) \n",
        "\n",
        "if not os.path.exists(path_out):\n",
        "    os.makedirs(path_out)\n",
        "\n",
        "# print('glob.glob(os.path.join(path_in, \"*\"))=',glob.glob(os.path.join(path_in, \"*\")))\n",
        "for class_folder in glob.glob(os.path.join(path_in, \"*\")):\n",
        "    print(\"Folder: \", class_folder)\n",
        "    print(\"------------------------------------------------------------------------\")\n",
        "    encr_folder = os.path.join(\n",
        "                path_out,\n",
        "                os.path.basename(class_folder))\n",
        "    if not os.path.exists(encr_folder):\n",
        "        os.makedirs(encr_folder)\n",
        "    for filename in glob.glob(os.path.join(class_folder,'*.png')): \n",
        "        with open(os.path.join(os.getcwd(), filename), 'r+') as f:\n",
        "            print(filename)\n",
        "#             a1 = filename\n",
        "#             try:\n",
        "            plainimg = Image.open(filename)\n",
        "            cipherimg = ImgEncrypt(_lambda, pk, plainimg, pub)\n",
        "            arra = np.array(cipherimg, dtype = 'float')\n",
        "            encr_filepath = os.path.join(\n",
        "                encr_folder,\n",
        "                os.path.basename(filename)\n",
        "            )\n",
        "            imsave(encr_filepath,arra) #.astype(numpy.uint8))\n",
        "            print(encr_filepath, 'saved.')\n",
        "#             except:\n",
        "#                 print(\"Pb in: \", filename)"
      ]
    },
    {
      "cell_type": "code",
      "source": [
        "\n",
        "!ls -R '/content/drive/My Drive/COVID-sample-dataset/Encrypted-4-classes-sample20/' "
      ],
      "metadata": {
        "colab": {
          "base_uri": "https://localhost:8080/"
        },
        "id": "lccBXLgkGyKM",
        "outputId": "738638df-2de8-401a-8d18-9f0166c9ccd2"
      },
      "execution_count": null,
      "outputs": [
        {
          "output_type": "stream",
          "name": "stdout",
          "text": [
            "'/content/drive/My Drive/COVID-sample-dataset/Encrypted-4-classes-sample20/':\n",
            "Covid  Lung_Opacity  Normal  Viral_Pneumonia\n",
            "\n",
            "'/content/drive/My Drive/COVID-sample-dataset/Encrypted-4-classes-sample20/Covid':\n",
            "COVID-10.png  COVID-14.png  COVID-18.png  COVID-2.png  COVID-6.png\n",
            "COVID-11.png  COVID-15.png  COVID-19.png  COVID-3.png  COVID-7.png\n",
            "COVID-12.png  COVID-16.png  COVID-1.png   COVID-4.png  COVID-8.png\n",
            "COVID-13.png  COVID-17.png  COVID-20.png  COVID-5.png  COVID-9.png\n",
            "\n",
            "'/content/drive/My Drive/COVID-sample-dataset/Encrypted-4-classes-sample20/Lung_Opacity':\n",
            "Lung_Opacity-10.png  Lung_Opacity-17.png  Lung_Opacity-4.png\n",
            "Lung_Opacity-11.png  Lung_Opacity-18.png  Lung_Opacity-5.png\n",
            "Lung_Opacity-12.png  Lung_Opacity-19.png  Lung_Opacity-6.png\n",
            "Lung_Opacity-13.png  Lung_Opacity-1.png   Lung_Opacity-7.png\n",
            "Lung_Opacity-14.png  Lung_Opacity-20.png  Lung_Opacity-8.png\n",
            "Lung_Opacity-15.png  Lung_Opacity-2.png   Lung_Opacity-9.png\n",
            "Lung_Opacity-16.png  Lung_Opacity-3.png\n",
            "\n",
            "'/content/drive/My Drive/COVID-sample-dataset/Encrypted-4-classes-sample20/Normal':\n",
            "Normal-10.png  Normal-14.png  Normal-18.png  Normal-2.png  Normal-7.png\n",
            "Normal-11.png  Normal-15.png  Normal-19.png  Normal-3.png  Normal-8.png\n",
            "Normal-12.png  Normal-16.png  Normal-1.png   Normal-5.png  Normal-9.png\n",
            "Normal-13.png  Normal-17.png  Normal-20.png  Normal-6.png\n",
            "\n",
            "'/content/drive/My Drive/COVID-sample-dataset/Encrypted-4-classes-sample20/Viral_Pneumonia':\n",
            "'Viral Pneumonia-10.png'  'Viral Pneumonia-17.png'  'Viral Pneumonia-4.png'\n",
            "'Viral Pneumonia-11.png'  'Viral Pneumonia-18.png'  'Viral Pneumonia-5.png'\n",
            "'Viral Pneumonia-12.png'  'Viral Pneumonia-19.png'  'Viral Pneumonia-6.png'\n",
            "'Viral Pneumonia-13.png'  'Viral Pneumonia-1.png'   'Viral Pneumonia-7.png'\n",
            "'Viral Pneumonia-14.png'  'Viral Pneumonia-20.png'  'Viral Pneumonia-8.png'\n",
            "'Viral Pneumonia-15.png'  'Viral Pneumonia-2.png'   'Viral Pneumonia-9.png'\n",
            "'Viral Pneumonia-16.png'  'Viral Pneumonia-3.png'\n"
          ]
        }
      ]
    },
    {
      "cell_type": "markdown",
      "metadata": {
        "id": "01d207c2"
      },
      "source": [
        "## 3. Training on plain images"
      ]
    },
    {
      "cell_type": "code",
      "execution_count": null,
      "metadata": {
        "id": "9217dedd"
      },
      "outputs": [],
      "source": [
        "import numpy as np\n",
        "import pandas as pd\n",
        "import matplotlib.pyplot as plt\n",
        "import matplotlib.image as mpimg\n",
        "from matplotlib.offsetbox import OffsetImage, AnnotationBbox\n",
        "from glob import glob\n",
        "from PIL import Image\n",
        "import os\n",
        "import random\n",
        "import cv2\n",
        "from tensorflow.keras.callbacks import ModelCheckpoint\n",
        "import tensorflow as tf\n",
        "from tensorflow.keras.models import Sequential, Model, load_model\n",
        "from tensorflow.keras.layers import (\n",
        "    Activation,\n",
        "    Dense,\n",
        "    Dropout,\n",
        "    Flatten,\n",
        "    Conv2D,\n",
        "    MaxPooling2D,\n",
        "    MaxPool2D,\n",
        "    AveragePooling2D,\n",
        "    GlobalMaxPooling2D,\n",
        ")\n",
        "from tensorflow.keras import backend as K\n",
        "from tensorflow.keras.wrappers.scikit_learn import KerasClassifier\n",
        "from tensorflow.keras.layers import BatchNormalization\n",
        "from tensorflow.keras.utils import to_categorical  # convert to one-hot-encoding\n",
        "from tensorflow.keras import regularizers\n",
        "from tensorflow.keras.optimizers import Adam, SGD\n",
        "from tensorflow.keras.preprocessing.image import ImageDataGenerator, array_to_img\n",
        "from tensorflow.keras.callbacks import ReduceLROnPlateau, EarlyStopping, ModelCheckpoint\n",
        "from tensorflow.keras.metrics import PrecisionAtRecall, Recall\n",
        "\n",
        "from tensorflow.keras.applications.efficientnet import EfficientNetB1\n",
        "from tensorflow.keras.applications.nasnet import NASNetLarge\n",
        "from tensorflow.keras.applications import DenseNet201, MobileNetV2, Xception, ResNet152V2, InceptionV3, VGG19, DenseNet121, ResNet50, VGG16, DenseNet169\n",
        "\n",
        "from tensorflow.keras.layers import AveragePooling2D, Conv2D, MaxPool2D\n",
        "from tensorflow.keras.layers import Dropout\n",
        "from tensorflow.keras.layers import Flatten\n",
        "from tensorflow.keras.layers import Dense\n",
        "from tensorflow.keras.layers import Input\n",
        "from tensorflow.keras.models import Model\n",
        "from sklearn.preprocessing import LabelBinarizer\n",
        "from sklearn.model_selection import train_test_split\n",
        "from sklearn.metrics import classification_report\n",
        "from sklearn.metrics import confusion_matrix\n",
        "from tensorflow.keras import initializers\n",
        "from sklearn.metrics import (\n",
        "    confusion_matrix,\n",
        "    accuracy_score,\n",
        "    precision_recall_fscore_support,\n",
        ")\n",
        "import tensorflow.keras as keras\n",
        "from tensorflow.keras.callbacks import CSVLogger\n",
        "import argparse\n",
        "\n",
        "\n",
        "np.random.seed(0)\n",
        "tf.random.set_seed(0)"
      ]
    },
    {
      "cell_type": "markdown",
      "metadata": {
        "id": "23b4035e"
      },
      "source": [
        "### 3.1 Choice of model and hyerparameters\n",
        "The ```encryption_status``` variable specifies whether the training will be done on plain or encrypted images."
      ]
    },
    {
      "cell_type": "code",
      "execution_count": null,
      "metadata": {
        "id": "fc2831d8"
      },
      "outputs": [],
      "source": [
        "dict_models = {'EfficientNetB1': EfficientNetB1, \n",
        "                'NASNetLarge': NASNetLarge,\n",
        "                'DenseNet201': DenseNet201,\n",
        "                'MobileNetV2': MobileNetV2,\n",
        "                'Xception': Xception,\n",
        "                'VGG19': VGG19,\n",
        "                'VGG16': VGG16,\n",
        "                'ResNet152V2': ResNet152V2,\n",
        "                'InceptionV3': InceptionV3,\n",
        "                'ResNet50': ResNet50,\n",
        "                'DenseNet121': DenseNet121,\n",
        "                'DenseNet169': DenseNet169}\n",
        "\n",
        "model_name = 'ResNet50'\n",
        "IMG_SHAPE = 224\n",
        "INIT_LR = 1e-4\n",
        "INITIAL_EPOCH = 0\n",
        "batch_size = 8\n",
        "epochs = 250\n",
        "fine_tune_at = 100\n",
        "\n"
      ]
    },
    {
      "cell_type": "markdown",
      "metadata": {
        "id": "fea7f4a1"
      },
      "source": [
        "### 3.2 Paths"
      ]
    },
    {
      "cell_type": "code",
      "execution_count": null,
      "metadata": {
        "id": "2b3388ad"
      },
      "outputs": [],
      "source": [
        "base_path = '/content/drive/My Drive/COVID-sample-dataset/Plain-4-classes-sample20/'\n",
        "\n",
        "CHECKPOINT_PATH_BASE = \"/content/drive/My Drive/COVID-sample-dataset/Plain-checkpoints-\" + model_name\n",
        "\n",
        "if not os.path.exists(CHECKPOINT_PATH_BASE):\n",
        "    os.makedirs(CHECKPOINT_PATH_BASE)\n",
        "\n",
        "CHECKPOINT_PATH = CHECKPOINT_PATH_BASE+'/Plain-'+model_name+\"-epoch{epoch:02d}-loss{val_loss:.2f}-val_acc{val_accuracy:.3f}.h5\"\n",
        "LOGFILE_PATH = CHECKPOINT_PATH_BASE+'/Plain-'+model_name+\"-training-log.csv\"\n"
      ]
    },
    {
      "cell_type": "markdown",
      "metadata": {
        "id": "b6dafe2f"
      },
      "source": [
        "\n",
        "### 3.3 Data augmentation and data generation"
      ]
    },
    {
      "cell_type": "code",
      "execution_count": null,
      "metadata": {
        "colab": {
          "base_uri": "https://localhost:8080/"
        },
        "id": "e3713c8b",
        "outputId": "90339365-4681-4177-e958-fc8fc899ad0a"
      },
      "outputs": [
        {
          "output_type": "stream",
          "name": "stdout",
          "text": [
            "Found 64 images belonging to 4 classes.\n",
            "Found 15 images belonging to 4 classes.\n"
          ]
        }
      ],
      "source": [
        "train_datagen = ImageDataGenerator(\n",
        "    rescale=1.0 / 255,\n",
        "    shear_range=0.1,\n",
        "    zoom_range=0.1,\n",
        "    width_shift_range=0.1,\n",
        "    height_shift_range=0.1,\n",
        "    horizontal_flip=True,\n",
        "    vertical_flip=True,\n",
        "    validation_split=0.2,\n",
        ")\n",
        "\n",
        "test_datagen = ImageDataGenerator(rescale=1.0 / 255, validation_split=0.2)\n",
        "\n",
        "train_generator = train_datagen.flow_from_directory(\n",
        "    base_path,\n",
        "    target_size=(IMG_SHAPE, IMG_SHAPE),\n",
        "    batch_size=batch_size,\n",
        "    class_mode=\"categorical\",\n",
        "    subset=\"training\",\n",
        "    # shuffle=False,\n",
        "    seed=0,\n",
        ")\n",
        "\n",
        "validation_generator = test_datagen.flow_from_directory(\n",
        "    base_path,\n",
        "    target_size=(IMG_SHAPE, IMG_SHAPE),\n",
        "    batch_size=batch_size,\n",
        "    class_mode=\"categorical\",\n",
        "    subset=\"validation\",\n",
        "    # shuffle=False,\n",
        "    seed=0,\n",
        ")"
      ]
    },
    {
      "cell_type": "markdown",
      "metadata": {
        "id": "83b8ca7f"
      },
      "source": [
        "### 3.4 Definition of the CNN model and compilation"
      ]
    },
    {
      "cell_type": "code",
      "execution_count": null,
      "metadata": {
        "id": "d9bcf6df"
      },
      "outputs": [],
      "source": [
        "baseModel = dict_models[model_name](\n",
        "    weights=\"imagenet\",\n",
        "    include_top=False,\n",
        "    input_shape=(IMG_SHAPE, IMG_SHAPE, 3)\n",
        "    # input_tensor=Input(shape=IMG_SHAPE),\n",
        ")\n",
        "# construct the head of the model that will be placed on top of the\n",
        "# the base model\n",
        "baseModel.trainable = True\n",
        "\n",
        "model = tf.keras.Sequential(\n",
        "    [\n",
        "        baseModel,\n",
        "        tf.keras.layers.Conv2D(128, 3, activation=\"relu\"),\n",
        "        tf.keras.layers.Dropout(0.2),\n",
        "        tf.keras.layers.GlobalAveragePooling2D(),\n",
        "        tf.keras.layers.Dense(4, activation=\"softmax\"),\n",
        "    ]\n",
        ")\n",
        "\n",
        "cp1 = ModelCheckpoint(\n",
        "    filepath=CHECKPOINT_PATH,\n",
        "    monitor='val_accuracy',#\"val_loss\",\n",
        "    save_best_only=True,\n",
        "    verbose=1,\n",
        "    mode=\"auto\",\n",
        ")\n",
        "csv_logger = CSVLogger(LOGFILE_PATH, append=True)\n",
        "callbacks_list = [cp1, csv_logger]\n",
        "\n",
        "\n",
        "steps_per_epoch = train_generator.n // batch_size\n",
        "validation_steps = validation_generator.n // batch_size\n",
        "\n",
        "for layer in baseModel.layers[:fine_tune_at]:\n",
        "  layer.trainable =  False\n",
        "\n",
        "\n",
        "model.compile(loss='categorical_crossentropy',\n",
        "              optimizer = tf.keras.optimizers.Adam(INIT_LR), # or: RMSprop\n",
        "              metrics=['accuracy'])\n",
        "\n"
      ]
    },
    {
      "cell_type": "markdown",
      "metadata": {
        "id": "a080a946"
      },
      "source": [
        "### 3.5 Start training"
      ]
    },
    {
      "cell_type": "code",
      "execution_count": null,
      "metadata": {
        "colab": {
          "base_uri": "https://localhost:8080/",
          "height": 1000
        },
        "id": "6aee6e0b",
        "outputId": "0e712d9b-db9e-4862-fa2e-e49125f19e39"
      },
      "outputs": [
        {
          "output_type": "stream",
          "name": "stdout",
          "text": [
            "Epoch 1/250\n"
          ]
        },
        {
          "output_type": "stream",
          "name": "stderr",
          "text": [
            "/usr/local/lib/python3.7/dist-packages/ipykernel_launcher.py:7: UserWarning: `Model.fit_generator` is deprecated and will be removed in a future version. Please use `Model.fit`, which supports generators.\n",
            "  import sys\n"
          ]
        },
        {
          "output_type": "stream",
          "name": "stdout",
          "text": [
            "8/8 [==============================] - ETA: 0s - loss: 3.4031 - accuracy: 0.2188\n",
            "Epoch 1: val_accuracy improved from -inf to 0.50000, saving model to /content/drive/My Drive/COVID-sample-dataset/Plain-checkpoints-ResNet50/Plain-ResNet50-epoch01-loss2.11-val_acc0.500.h5\n",
            "8/8 [==============================] - 12s 778ms/step - loss: 3.4031 - accuracy: 0.2188 - val_loss: 2.1105 - val_accuracy: 0.5000\n",
            "Epoch 2/250\n",
            "8/8 [==============================] - ETA: 0s - loss: 1.8255 - accuracy: 0.1250\n",
            "Epoch 2: val_accuracy did not improve from 0.50000\n",
            "8/8 [==============================] - 3s 308ms/step - loss: 1.8255 - accuracy: 0.1250 - val_loss: 1.7302 - val_accuracy: 0.0000e+00\n",
            "Epoch 3/250\n",
            "8/8 [==============================] - ETA: 0s - loss: 1.6427 - accuracy: 0.0938    \n",
            "Epoch 3: val_accuracy did not improve from 0.50000\n",
            "8/8 [==============================] - 3s 289ms/step - loss: 1.6427 - accuracy: 0.0938 - val_loss: 1.7758 - val_accuracy: 0.0000e+00\n",
            "Epoch 4/250\n",
            "8/8 [==============================] - ETA: 0s - loss: 1.7060 - accuracy: 0.0156\n",
            "Epoch 4: val_accuracy did not improve from 0.50000\n",
            "8/8 [==============================] - 3s 287ms/step - loss: 1.7060 - accuracy: 0.0156 - val_loss: 1.8095 - val_accuracy: 0.0000e+00\n",
            "Epoch 5/250\n",
            "8/8 [==============================] - ETA: 0s - loss: 1.5439 - accuracy: 0.1562\n",
            "Epoch 5: val_accuracy did not improve from 0.50000\n",
            "8/8 [==============================] - 3s 359ms/step - loss: 1.5439 - accuracy: 0.1562 - val_loss: 1.7160 - val_accuracy: 0.0000e+00\n",
            "Epoch 6/250\n",
            "8/8 [==============================] - ETA: 0s - loss: 1.6234 - accuracy: 0.1406\n",
            "Epoch 6: val_accuracy did not improve from 0.50000\n",
            "8/8 [==============================] - 2s 273ms/step - loss: 1.6234 - accuracy: 0.1406 - val_loss: 1.6407 - val_accuracy: 0.0000e+00\n",
            "Epoch 7/250\n",
            "8/8 [==============================] - ETA: 0s - loss: 1.5924 - accuracy: 0.0312\n",
            "Epoch 7: val_accuracy did not improve from 0.50000\n",
            "8/8 [==============================] - 3s 298ms/step - loss: 1.5924 - accuracy: 0.0312 - val_loss: 1.6729 - val_accuracy: 0.0000e+00\n",
            "Epoch 8/250\n",
            "8/8 [==============================] - ETA: 0s - loss: 1.4760 - accuracy: 0.1250\n",
            "Epoch 8: val_accuracy did not improve from 0.50000\n",
            "8/8 [==============================] - 3s 290ms/step - loss: 1.4760 - accuracy: 0.1250 - val_loss: 1.5809 - val_accuracy: 0.0000e+00\n",
            "Epoch 9/250\n",
            "8/8 [==============================] - ETA: 0s - loss: 1.4601 - accuracy: 0.0938\n",
            "Epoch 9: val_accuracy did not improve from 0.50000\n",
            "8/8 [==============================] - 2s 281ms/step - loss: 1.4601 - accuracy: 0.0938 - val_loss: 1.5594 - val_accuracy: 0.0000e+00\n",
            "Epoch 10/250\n",
            "2/8 [======>.......................] - ETA: 0s - loss: 1.3643 - accuracy: 0.4375    "
          ]
        },
        {
          "output_type": "error",
          "ename": "KeyboardInterrupt",
          "evalue": "ignored",
          "traceback": [
            "\u001b[0;31m---------------------------------------------------------------------------\u001b[0m",
            "\u001b[0;31mKeyboardInterrupt\u001b[0m                         Traceback (most recent call last)",
            "\u001b[0;32m<ipython-input-63-7d1bfa388072>\u001b[0m in \u001b[0;36m<module>\u001b[0;34m()\u001b[0m\n\u001b[1;32m      5\u001b[0m                                    \u001b[0mvalidation_data\u001b[0m\u001b[0;34m=\u001b[0m\u001b[0mvalidation_generator\u001b[0m\u001b[0;34m,\u001b[0m\u001b[0;34m\u001b[0m\u001b[0;34m\u001b[0m\u001b[0m\n\u001b[1;32m      6\u001b[0m                                    \u001b[0mvalidation_steps\u001b[0m\u001b[0;34m=\u001b[0m\u001b[0mvalidation_steps\u001b[0m\u001b[0;34m,\u001b[0m\u001b[0;34m\u001b[0m\u001b[0;34m\u001b[0m\u001b[0m\n\u001b[0;32m----> 7\u001b[0;31m                                    callbacks=callbacks_list)\n\u001b[0m",
            "\u001b[0;32m/usr/local/lib/python3.7/dist-packages/keras/engine/training.py\u001b[0m in \u001b[0;36mfit_generator\u001b[0;34m(self, generator, steps_per_epoch, epochs, verbose, callbacks, validation_data, validation_steps, validation_freq, class_weight, max_queue_size, workers, use_multiprocessing, shuffle, initial_epoch)\u001b[0m\n\u001b[1;32m   2221\u001b[0m         \u001b[0muse_multiprocessing\u001b[0m\u001b[0;34m=\u001b[0m\u001b[0muse_multiprocessing\u001b[0m\u001b[0;34m,\u001b[0m\u001b[0;34m\u001b[0m\u001b[0;34m\u001b[0m\u001b[0m\n\u001b[1;32m   2222\u001b[0m         \u001b[0mshuffle\u001b[0m\u001b[0;34m=\u001b[0m\u001b[0mshuffle\u001b[0m\u001b[0;34m,\u001b[0m\u001b[0;34m\u001b[0m\u001b[0;34m\u001b[0m\u001b[0m\n\u001b[0;32m-> 2223\u001b[0;31m         initial_epoch=initial_epoch)\n\u001b[0m\u001b[1;32m   2224\u001b[0m \u001b[0;34m\u001b[0m\u001b[0m\n\u001b[1;32m   2225\u001b[0m   \u001b[0;34m@\u001b[0m\u001b[0mdoc_controls\u001b[0m\u001b[0;34m.\u001b[0m\u001b[0mdo_not_generate_docs\u001b[0m\u001b[0;34m\u001b[0m\u001b[0;34m\u001b[0m\u001b[0m\n",
            "\u001b[0;32m/usr/local/lib/python3.7/dist-packages/keras/utils/traceback_utils.py\u001b[0m in \u001b[0;36merror_handler\u001b[0;34m(*args, **kwargs)\u001b[0m\n\u001b[1;32m     62\u001b[0m     \u001b[0mfiltered_tb\u001b[0m \u001b[0;34m=\u001b[0m \u001b[0;32mNone\u001b[0m\u001b[0;34m\u001b[0m\u001b[0;34m\u001b[0m\u001b[0m\n\u001b[1;32m     63\u001b[0m     \u001b[0;32mtry\u001b[0m\u001b[0;34m:\u001b[0m\u001b[0;34m\u001b[0m\u001b[0;34m\u001b[0m\u001b[0m\n\u001b[0;32m---> 64\u001b[0;31m       \u001b[0;32mreturn\u001b[0m \u001b[0mfn\u001b[0m\u001b[0;34m(\u001b[0m\u001b[0;34m*\u001b[0m\u001b[0margs\u001b[0m\u001b[0;34m,\u001b[0m \u001b[0;34m**\u001b[0m\u001b[0mkwargs\u001b[0m\u001b[0;34m)\u001b[0m\u001b[0;34m\u001b[0m\u001b[0;34m\u001b[0m\u001b[0m\n\u001b[0m\u001b[1;32m     65\u001b[0m     \u001b[0;32mexcept\u001b[0m \u001b[0mException\u001b[0m \u001b[0;32mas\u001b[0m \u001b[0me\u001b[0m\u001b[0;34m:\u001b[0m  \u001b[0;31m# pylint: disable=broad-except\u001b[0m\u001b[0;34m\u001b[0m\u001b[0;34m\u001b[0m\u001b[0m\n\u001b[1;32m     66\u001b[0m       \u001b[0mfiltered_tb\u001b[0m \u001b[0;34m=\u001b[0m \u001b[0m_process_traceback_frames\u001b[0m\u001b[0;34m(\u001b[0m\u001b[0me\u001b[0m\u001b[0;34m.\u001b[0m\u001b[0m__traceback__\u001b[0m\u001b[0;34m)\u001b[0m\u001b[0;34m\u001b[0m\u001b[0;34m\u001b[0m\u001b[0m\n",
            "\u001b[0;32m/usr/local/lib/python3.7/dist-packages/keras/engine/training.py\u001b[0m in \u001b[0;36mfit\u001b[0;34m(self, x, y, batch_size, epochs, verbose, callbacks, validation_split, validation_data, shuffle, class_weight, sample_weight, initial_epoch, steps_per_epoch, validation_steps, validation_batch_size, validation_freq, max_queue_size, workers, use_multiprocessing)\u001b[0m\n\u001b[1;32m   1382\u001b[0m                 _r=1):\n\u001b[1;32m   1383\u001b[0m               \u001b[0mcallbacks\u001b[0m\u001b[0;34m.\u001b[0m\u001b[0mon_train_batch_begin\u001b[0m\u001b[0;34m(\u001b[0m\u001b[0mstep\u001b[0m\u001b[0;34m)\u001b[0m\u001b[0;34m\u001b[0m\u001b[0;34m\u001b[0m\u001b[0m\n\u001b[0;32m-> 1384\u001b[0;31m               \u001b[0mtmp_logs\u001b[0m \u001b[0;34m=\u001b[0m \u001b[0mself\u001b[0m\u001b[0;34m.\u001b[0m\u001b[0mtrain_function\u001b[0m\u001b[0;34m(\u001b[0m\u001b[0miterator\u001b[0m\u001b[0;34m)\u001b[0m\u001b[0;34m\u001b[0m\u001b[0;34m\u001b[0m\u001b[0m\n\u001b[0m\u001b[1;32m   1385\u001b[0m               \u001b[0;32mif\u001b[0m \u001b[0mdata_handler\u001b[0m\u001b[0;34m.\u001b[0m\u001b[0mshould_sync\u001b[0m\u001b[0;34m:\u001b[0m\u001b[0;34m\u001b[0m\u001b[0;34m\u001b[0m\u001b[0m\n\u001b[1;32m   1386\u001b[0m                 \u001b[0mcontext\u001b[0m\u001b[0;34m.\u001b[0m\u001b[0masync_wait\u001b[0m\u001b[0;34m(\u001b[0m\u001b[0;34m)\u001b[0m\u001b[0;34m\u001b[0m\u001b[0;34m\u001b[0m\u001b[0m\n",
            "\u001b[0;32m/usr/local/lib/python3.7/dist-packages/tensorflow/python/util/traceback_utils.py\u001b[0m in \u001b[0;36merror_handler\u001b[0;34m(*args, **kwargs)\u001b[0m\n\u001b[1;32m    148\u001b[0m     \u001b[0mfiltered_tb\u001b[0m \u001b[0;34m=\u001b[0m \u001b[0;32mNone\u001b[0m\u001b[0;34m\u001b[0m\u001b[0;34m\u001b[0m\u001b[0m\n\u001b[1;32m    149\u001b[0m     \u001b[0;32mtry\u001b[0m\u001b[0;34m:\u001b[0m\u001b[0;34m\u001b[0m\u001b[0;34m\u001b[0m\u001b[0m\n\u001b[0;32m--> 150\u001b[0;31m       \u001b[0;32mreturn\u001b[0m \u001b[0mfn\u001b[0m\u001b[0;34m(\u001b[0m\u001b[0;34m*\u001b[0m\u001b[0margs\u001b[0m\u001b[0;34m,\u001b[0m \u001b[0;34m**\u001b[0m\u001b[0mkwargs\u001b[0m\u001b[0;34m)\u001b[0m\u001b[0;34m\u001b[0m\u001b[0;34m\u001b[0m\u001b[0m\n\u001b[0m\u001b[1;32m    151\u001b[0m     \u001b[0;32mexcept\u001b[0m \u001b[0mException\u001b[0m \u001b[0;32mas\u001b[0m \u001b[0me\u001b[0m\u001b[0;34m:\u001b[0m\u001b[0;34m\u001b[0m\u001b[0;34m\u001b[0m\u001b[0m\n\u001b[1;32m    152\u001b[0m       \u001b[0mfiltered_tb\u001b[0m \u001b[0;34m=\u001b[0m \u001b[0m_process_traceback_frames\u001b[0m\u001b[0;34m(\u001b[0m\u001b[0me\u001b[0m\u001b[0;34m.\u001b[0m\u001b[0m__traceback__\u001b[0m\u001b[0;34m)\u001b[0m\u001b[0;34m\u001b[0m\u001b[0;34m\u001b[0m\u001b[0m\n",
            "\u001b[0;32m/usr/local/lib/python3.7/dist-packages/tensorflow/python/eager/def_function.py\u001b[0m in \u001b[0;36m__call__\u001b[0;34m(self, *args, **kwds)\u001b[0m\n\u001b[1;32m    913\u001b[0m \u001b[0;34m\u001b[0m\u001b[0m\n\u001b[1;32m    914\u001b[0m       \u001b[0;32mwith\u001b[0m \u001b[0mOptionalXlaContext\u001b[0m\u001b[0;34m(\u001b[0m\u001b[0mself\u001b[0m\u001b[0;34m.\u001b[0m\u001b[0m_jit_compile\u001b[0m\u001b[0;34m)\u001b[0m\u001b[0;34m:\u001b[0m\u001b[0;34m\u001b[0m\u001b[0;34m\u001b[0m\u001b[0m\n\u001b[0;32m--> 915\u001b[0;31m         \u001b[0mresult\u001b[0m \u001b[0;34m=\u001b[0m \u001b[0mself\u001b[0m\u001b[0;34m.\u001b[0m\u001b[0m_call\u001b[0m\u001b[0;34m(\u001b[0m\u001b[0;34m*\u001b[0m\u001b[0margs\u001b[0m\u001b[0;34m,\u001b[0m \u001b[0;34m**\u001b[0m\u001b[0mkwds\u001b[0m\u001b[0;34m)\u001b[0m\u001b[0;34m\u001b[0m\u001b[0;34m\u001b[0m\u001b[0m\n\u001b[0m\u001b[1;32m    916\u001b[0m \u001b[0;34m\u001b[0m\u001b[0m\n\u001b[1;32m    917\u001b[0m       \u001b[0mnew_tracing_count\u001b[0m \u001b[0;34m=\u001b[0m \u001b[0mself\u001b[0m\u001b[0;34m.\u001b[0m\u001b[0mexperimental_get_tracing_count\u001b[0m\u001b[0;34m(\u001b[0m\u001b[0;34m)\u001b[0m\u001b[0;34m\u001b[0m\u001b[0;34m\u001b[0m\u001b[0m\n",
            "\u001b[0;32m/usr/local/lib/python3.7/dist-packages/tensorflow/python/eager/def_function.py\u001b[0m in \u001b[0;36m_call\u001b[0;34m(self, *args, **kwds)\u001b[0m\n\u001b[1;32m    945\u001b[0m       \u001b[0;31m# In this case we have created variables on the first call, so we run the\u001b[0m\u001b[0;34m\u001b[0m\u001b[0;34m\u001b[0m\u001b[0;34m\u001b[0m\u001b[0m\n\u001b[1;32m    946\u001b[0m       \u001b[0;31m# defunned version which is guaranteed to never create variables.\u001b[0m\u001b[0;34m\u001b[0m\u001b[0;34m\u001b[0m\u001b[0;34m\u001b[0m\u001b[0m\n\u001b[0;32m--> 947\u001b[0;31m       \u001b[0;32mreturn\u001b[0m \u001b[0mself\u001b[0m\u001b[0;34m.\u001b[0m\u001b[0m_stateless_fn\u001b[0m\u001b[0;34m(\u001b[0m\u001b[0;34m*\u001b[0m\u001b[0margs\u001b[0m\u001b[0;34m,\u001b[0m \u001b[0;34m**\u001b[0m\u001b[0mkwds\u001b[0m\u001b[0;34m)\u001b[0m  \u001b[0;31m# pylint: disable=not-callable\u001b[0m\u001b[0;34m\u001b[0m\u001b[0;34m\u001b[0m\u001b[0m\n\u001b[0m\u001b[1;32m    948\u001b[0m     \u001b[0;32melif\u001b[0m \u001b[0mself\u001b[0m\u001b[0;34m.\u001b[0m\u001b[0m_stateful_fn\u001b[0m \u001b[0;32mis\u001b[0m \u001b[0;32mnot\u001b[0m \u001b[0;32mNone\u001b[0m\u001b[0;34m:\u001b[0m\u001b[0;34m\u001b[0m\u001b[0;34m\u001b[0m\u001b[0m\n\u001b[1;32m    949\u001b[0m       \u001b[0;31m# Release the lock early so that multiple threads can perform the call\u001b[0m\u001b[0;34m\u001b[0m\u001b[0;34m\u001b[0m\u001b[0;34m\u001b[0m\u001b[0m\n",
            "\u001b[0;32m/usr/local/lib/python3.7/dist-packages/tensorflow/python/eager/function.py\u001b[0m in \u001b[0;36m__call__\u001b[0;34m(self, *args, **kwargs)\u001b[0m\n\u001b[1;32m   2955\u001b[0m        filtered_flat_args) = self._maybe_define_function(args, kwargs)\n\u001b[1;32m   2956\u001b[0m     return graph_function._call_flat(\n\u001b[0;32m-> 2957\u001b[0;31m         filtered_flat_args, captured_inputs=graph_function.captured_inputs)  # pylint: disable=protected-access\n\u001b[0m\u001b[1;32m   2958\u001b[0m \u001b[0;34m\u001b[0m\u001b[0m\n\u001b[1;32m   2959\u001b[0m   \u001b[0;34m@\u001b[0m\u001b[0mproperty\u001b[0m\u001b[0;34m\u001b[0m\u001b[0;34m\u001b[0m\u001b[0m\n",
            "\u001b[0;32m/usr/local/lib/python3.7/dist-packages/tensorflow/python/eager/function.py\u001b[0m in \u001b[0;36m_call_flat\u001b[0;34m(self, args, captured_inputs, cancellation_manager)\u001b[0m\n\u001b[1;32m   1852\u001b[0m       \u001b[0;31m# No tape is watching; skip to running the function.\u001b[0m\u001b[0;34m\u001b[0m\u001b[0;34m\u001b[0m\u001b[0;34m\u001b[0m\u001b[0m\n\u001b[1;32m   1853\u001b[0m       return self._build_call_outputs(self._inference_function.call(\n\u001b[0;32m-> 1854\u001b[0;31m           ctx, args, cancellation_manager=cancellation_manager))\n\u001b[0m\u001b[1;32m   1855\u001b[0m     forward_backward = self._select_forward_and_backward_functions(\n\u001b[1;32m   1856\u001b[0m         \u001b[0margs\u001b[0m\u001b[0;34m,\u001b[0m\u001b[0;34m\u001b[0m\u001b[0;34m\u001b[0m\u001b[0m\n",
            "\u001b[0;32m/usr/local/lib/python3.7/dist-packages/tensorflow/python/eager/function.py\u001b[0m in \u001b[0;36mcall\u001b[0;34m(self, ctx, args, cancellation_manager)\u001b[0m\n\u001b[1;32m    502\u001b[0m               \u001b[0minputs\u001b[0m\u001b[0;34m=\u001b[0m\u001b[0margs\u001b[0m\u001b[0;34m,\u001b[0m\u001b[0;34m\u001b[0m\u001b[0;34m\u001b[0m\u001b[0m\n\u001b[1;32m    503\u001b[0m               \u001b[0mattrs\u001b[0m\u001b[0;34m=\u001b[0m\u001b[0mattrs\u001b[0m\u001b[0;34m,\u001b[0m\u001b[0;34m\u001b[0m\u001b[0;34m\u001b[0m\u001b[0m\n\u001b[0;32m--> 504\u001b[0;31m               ctx=ctx)\n\u001b[0m\u001b[1;32m    505\u001b[0m         \u001b[0;32melse\u001b[0m\u001b[0;34m:\u001b[0m\u001b[0;34m\u001b[0m\u001b[0;34m\u001b[0m\u001b[0m\n\u001b[1;32m    506\u001b[0m           outputs = execute.execute_with_cancellation(\n",
            "\u001b[0;32m/usr/local/lib/python3.7/dist-packages/tensorflow/python/eager/execute.py\u001b[0m in \u001b[0;36mquick_execute\u001b[0;34m(op_name, num_outputs, inputs, attrs, ctx, name)\u001b[0m\n\u001b[1;32m     53\u001b[0m     \u001b[0mctx\u001b[0m\u001b[0;34m.\u001b[0m\u001b[0mensure_initialized\u001b[0m\u001b[0;34m(\u001b[0m\u001b[0;34m)\u001b[0m\u001b[0;34m\u001b[0m\u001b[0;34m\u001b[0m\u001b[0m\n\u001b[1;32m     54\u001b[0m     tensors = pywrap_tfe.TFE_Py_Execute(ctx._handle, device_name, op_name,\n\u001b[0;32m---> 55\u001b[0;31m                                         inputs, attrs, num_outputs)\n\u001b[0m\u001b[1;32m     56\u001b[0m   \u001b[0;32mexcept\u001b[0m \u001b[0mcore\u001b[0m\u001b[0;34m.\u001b[0m\u001b[0m_NotOkStatusException\u001b[0m \u001b[0;32mas\u001b[0m \u001b[0me\u001b[0m\u001b[0;34m:\u001b[0m\u001b[0;34m\u001b[0m\u001b[0;34m\u001b[0m\u001b[0m\n\u001b[1;32m     57\u001b[0m     \u001b[0;32mif\u001b[0m \u001b[0mname\u001b[0m \u001b[0;32mis\u001b[0m \u001b[0;32mnot\u001b[0m \u001b[0;32mNone\u001b[0m\u001b[0;34m:\u001b[0m\u001b[0;34m\u001b[0m\u001b[0;34m\u001b[0m\u001b[0m\n",
            "\u001b[0;31mKeyboardInterrupt\u001b[0m: "
          ]
        }
      ],
      "source": [
        "history_fine = model.fit_generator(train_generator, \n",
        "                                   steps_per_epoch = steps_per_epoch,\n",
        "                                   epochs=epochs, \n",
        "                                   workers=4,\n",
        "                                   validation_data=validation_generator, \n",
        "                                   validation_steps=validation_steps,\n",
        "                                   callbacks=callbacks_list)\n"
      ]
    },
    {
      "cell_type": "code",
      "source": [
        "# Check the saved checkpoints:\n",
        "print(CHECKPOINT_PATH_BASE)\n",
        "os.listdir(CHECKPOINT_PATH_BASE)"
      ],
      "metadata": {
        "colab": {
          "base_uri": "https://localhost:8080/"
        },
        "id": "XG5w8kVmUCGm",
        "outputId": "b7566965-e024-45bf-c8be-b19160c5e4e4"
      },
      "execution_count": null,
      "outputs": [
        {
          "output_type": "stream",
          "name": "stdout",
          "text": [
            "/content/drive/My Drive/COVID-sample-dataset/Plain-checkpoints-ResNet50\n"
          ]
        },
        {
          "output_type": "execute_result",
          "data": {
            "text/plain": [
              "['-epoch01-loss1.90-val_acc0.250.h5',\n",
              " '-training-log.csv',\n",
              " '-epoch02-loss1.38-val_acc0.375.h5',\n",
              " '-epoch30-loss1.57-val_acc0.500.h5',\n",
              " '-epoch33-loss0.86-val_acc0.625.h5',\n",
              " '-epoch40-loss0.80-val_acc0.875.h5',\n",
              " 'Plain-ResNet50-epoch01-loss1.70-val_acc0.250.h5',\n",
              " 'Plain-ResNet50-training-log.csv',\n",
              " 'Plain-ResNet50-epoch07-loss1.14-val_acc0.375.h5',\n",
              " 'Plain-ResNet50-epoch08-loss1.37-val_acc0.500.h5',\n",
              " 'Plain-ResNet50-epoch41-loss2.12-val_acc0.625.h5',\n",
              " 'Plain-ResNet50-epoch67-loss1.57-val_acc0.750.h5',\n",
              " 'Plain-ResNet50-epoch01-loss2.11-val_acc0.500.h5']"
            ]
          },
          "metadata": {},
          "execution_count": 64
        }
      ]
    },
    {
      "cell_type": "markdown",
      "source": [
        "## 4. Training on encrypted images"
      ],
      "metadata": {
        "id": "DCoOLOAtW4-2"
      }
    },
    {
      "cell_type": "markdown",
      "source": [
        "### 4.1 Paths"
      ],
      "metadata": {
        "id": "ltLt7ldRXJ8c"
      }
    },
    {
      "cell_type": "code",
      "source": [
        "base_path = '/content/drive/My Drive/COVID-sample-dataset/Encrypted-4-classes-sample20/'\n",
        "\n",
        "CHECKPOINT_PATH_BASE = \"/content/drive/My Drive/COVID-sample-dataset/Encrypted-checkpoints-\" + model_name\n",
        "\n",
        "if not os.path.exists(CHECKPOINT_PATH_BASE):\n",
        "    os.makedirs(CHECKPOINT_PATH_BASE)\n",
        "\n",
        "CHECKPOINT_PATH = CHECKPOINT_PATH_BASE+'/Encrypted-'+model_name+\"-epoch{epoch:02d}-loss{val_loss:.2f}-val_acc{val_accuracy:.3f}.h5\"\n",
        "LOGFILE_PATH = CHECKPOINT_PATH_BASE+'/Encrypted-'+model_name+\"-training-log.csv\""
      ],
      "metadata": {
        "id": "l9SKlAnDW3Am"
      },
      "execution_count": null,
      "outputs": []
    },
    {
      "cell_type": "markdown",
      "metadata": {
        "id": "CDDPIWK0X4M8"
      },
      "source": [
        "\n",
        "### 4.2 Data augmentation and data generation"
      ]
    },
    {
      "cell_type": "code",
      "source": [
        "train_datagen = ImageDataGenerator(\n",
        "    rescale=1.0 / 255,\n",
        "    shear_range=0.1,\n",
        "    zoom_range=0.1,\n",
        "    width_shift_range=0.1,\n",
        "    height_shift_range=0.1,\n",
        "    horizontal_flip=True,\n",
        "    vertical_flip=True,\n",
        "    validation_split=0.2,\n",
        ")\n",
        "\n",
        "test_datagen = ImageDataGenerator(rescale=1.0 / 255, validation_split=0.2)\n",
        "\n",
        "train_generator = train_datagen.flow_from_directory(\n",
        "    base_path,\n",
        "    target_size=(IMG_SHAPE, IMG_SHAPE),\n",
        "    batch_size=batch_size,\n",
        "    class_mode=\"categorical\",\n",
        "    subset=\"training\",\n",
        "    # shuffle=False,\n",
        "    seed=0,\n",
        ")\n",
        "\n",
        "validation_generator = test_datagen.flow_from_directory(\n",
        "    base_path,\n",
        "    target_size=(IMG_SHAPE, IMG_SHAPE),\n",
        "    batch_size=batch_size,\n",
        "    class_mode=\"categorical\",\n",
        "    subset=\"validation\",\n",
        "    # shuffle=False,\n",
        "    seed=0,\n",
        ")"
      ],
      "metadata": {
        "colab": {
          "base_uri": "https://localhost:8080/"
        },
        "id": "gNw92O49W7Ld",
        "outputId": "916d79d6-c6ad-4c0c-ec6d-c61aa92a2e5f"
      },
      "execution_count": null,
      "outputs": [
        {
          "output_type": "stream",
          "name": "stdout",
          "text": [
            "Found 64 images belonging to 4 classes.\n",
            "Found 15 images belonging to 4 classes.\n"
          ]
        }
      ]
    },
    {
      "cell_type": "markdown",
      "source": [
        "### 4.3 Definition of the CNN model and compilation"
      ],
      "metadata": {
        "id": "9GOBZdrOYesP"
      }
    },
    {
      "cell_type": "code",
      "source": [
        "baseModel = dict_models[model_name](\n",
        "    weights=\"imagenet\",\n",
        "    include_top=False,\n",
        "    input_shape=(IMG_SHAPE, IMG_SHAPE, 3)\n",
        "    # input_tensor=Input(shape=IMG_SHAPE),\n",
        ")\n",
        "# construct the head of the model that will be placed on top of the\n",
        "# the base model\n",
        "baseModel.trainable = True\n",
        "\n",
        "model = tf.keras.Sequential(\n",
        "    [\n",
        "        baseModel,\n",
        "        tf.keras.layers.Conv2D(128, 3, activation=\"relu\"),\n",
        "        tf.keras.layers.Dropout(0.2),\n",
        "        tf.keras.layers.GlobalAveragePooling2D(),\n",
        "        tf.keras.layers.Dense(4, activation=\"softmax\"),\n",
        "    ]\n",
        ")\n",
        "\n",
        "cp1 = ModelCheckpoint(\n",
        "    filepath=CHECKPOINT_PATH,\n",
        "    monitor='val_accuracy',#\"val_loss\",\n",
        "    save_best_only=True,\n",
        "    verbose=1,\n",
        "    mode=\"auto\",\n",
        ")\n",
        "csv_logger = CSVLogger(LOGFILE_PATH, append=True)\n",
        "callbacks_list = [cp1, csv_logger]\n",
        "\n",
        "\n",
        "steps_per_epoch = train_generator.n // batch_size\n",
        "validation_steps = validation_generator.n // batch_size\n",
        "\n",
        "for layer in baseModel.layers[:fine_tune_at]:\n",
        "  layer.trainable =  False\n",
        "\n",
        "\n",
        "model.compile(loss='categorical_crossentropy',\n",
        "              optimizer = tf.keras.optimizers.Adam(INIT_LR), # or: RMSprop\n",
        "              metrics=['accuracy'])"
      ],
      "metadata": {
        "id": "mAuHxuC7YfIs"
      },
      "execution_count": null,
      "outputs": []
    },
    {
      "cell_type": "markdown",
      "source": [
        "### 4.4 Start training\n"
      ],
      "metadata": {
        "id": "r_vzE8DNYsSI"
      }
    },
    {
      "cell_type": "code",
      "source": [
        "history_fine = model.fit_generator(train_generator, \n",
        "                                   steps_per_epoch = steps_per_epoch,\n",
        "                                   epochs=epochs, \n",
        "                                   workers=4,\n",
        "                                   validation_data=validation_generator, \n",
        "                                   validation_steps=validation_steps,\n",
        "                                   callbacks=callbacks_list)\n"
      ],
      "metadata": {
        "id": "hnD9VjycY17-"
      },
      "execution_count": null,
      "outputs": []
    },
    {
      "cell_type": "code",
      "source": [
        "# Check the saved checkpoints:\n",
        "print(CHECKPOINT_PATH_BASE)\n",
        "os.listdir(CHECKPOINT_PATH_BASE)"
      ],
      "metadata": {
        "colab": {
          "base_uri": "https://localhost:8080/"
        },
        "id": "YoLJrt-rZKyC",
        "outputId": "f689a535-dcaf-4840-9107-6de40d33b801"
      },
      "execution_count": null,
      "outputs": [
        {
          "output_type": "stream",
          "name": "stdout",
          "text": [
            "/content/drive/My Drive/COVID-sample-dataset/Encrypted-checkpoints-ResNet50\n"
          ]
        },
        {
          "output_type": "execute_result",
          "data": {
            "text/plain": [
              "['Encrypted-ResNet50-epoch01-loss1.42-val_acc0.250.h5',\n",
              " 'Encrypted-ResNet50-training-log.csv',\n",
              " 'Encrypted-ResNet50-epoch09-loss1.36-val_acc0.375.h5',\n",
              " 'Encrypted-ResNet50-epoch50-loss1.36-val_acc0.500.h5',\n",
              " 'Encrypted-ResNet50-epoch232-loss1.38-val_acc0.625.h5']"
            ]
          },
          "metadata": {},
          "execution_count": 45
        }
      ]
    },
    {
      "cell_type": "code",
      "source": [
        ""
      ],
      "metadata": {
        "id": "bCaTrFsmbz-m"
      },
      "execution_count": null,
      "outputs": []
    }
  ],
  "metadata": {
    "interpreter": {
      "hash": "ee5cc6fef2d70a7e71ee3826687cbd150f18158e0b1eef11d4f4f92bb920e304"
    },
    "kernelspec": {
      "display_name": "Python 3 (ipykernel)",
      "language": "python",
      "name": "python3"
    },
    "language_info": {
      "codemirror_mode": {
        "name": "ipython",
        "version": 3
      },
      "file_extension": ".py",
      "mimetype": "text/x-python",
      "name": "python",
      "nbconvert_exporter": "python",
      "pygments_lexer": "ipython3",
      "version": "3.7.6"
    },
    "colab": {
      "name": "Colab_encryption_and_training_v1.1.ipynb",
      "provenance": [],
      "collapsed_sections": []
    },
    "accelerator": "GPU"
  },
  "nbformat": 4,
  "nbformat_minor": 0
}